{
 "cells": [
  {
   "cell_type": "markdown",
   "id": "5c8cf790-ba5a-433c-b528-56f8a3f2b188",
   "metadata": {},
   "source": [
    "### Task 1"
   ]
  },
  {
   "cell_type": "code",
   "execution_count": 34,
   "id": "f7abb4d5-62a5-400b-b85d-924a12b1f352",
   "metadata": {},
   "outputs": [
    {
     "name": "stdout",
     "output_type": "stream",
     "text": [
      "The history saving thread hit an unexpected error (OperationalError('attempt to write a readonly database')).History will not be written to the database.\n"
     ]
    }
   ],
   "source": [
    "import numpy as np\n",
    "mylist = list('abcedfghijklmnopqrstuvwxyz')\n",
    "myarr = np.arange(26)\n",
    "mydict = dict(zip(mylist, myarr))"
   ]
  },
  {
   "cell_type": "code",
   "execution_count": 35,
   "id": "2df55d55-3e39-4d3e-89d1-b26ba5d855ae",
   "metadata": {},
   "outputs": [
    {
     "name": "stdout",
     "output_type": "stream",
     "text": [
      "list:\n",
      "0     a\n",
      "1     b\n",
      "2     c\n",
      "3     e\n",
      "4     d\n",
      "5     f\n",
      "6     g\n",
      "7     h\n",
      "8     i\n",
      "9     j\n",
      "10    k\n",
      "11    l\n",
      "12    m\n",
      "13    n\n",
      "14    o\n",
      "15    p\n",
      "16    q\n",
      "17    r\n",
      "18    s\n",
      "19    t\n",
      "20    u\n",
      "21    v\n",
      "22    w\n",
      "23    x\n",
      "24    y\n",
      "25    z\n",
      "dtype: object\n",
      "arr:\n",
      "0      0\n",
      "1      1\n",
      "2      2\n",
      "3      3\n",
      "4      4\n",
      "5      5\n",
      "6      6\n",
      "7      7\n",
      "8      8\n",
      "9      9\n",
      "10    10\n",
      "11    11\n",
      "12    12\n",
      "13    13\n",
      "14    14\n",
      "15    15\n",
      "16    16\n",
      "17    17\n",
      "18    18\n",
      "19    19\n",
      "20    20\n",
      "21    21\n",
      "22    22\n",
      "23    23\n",
      "24    24\n",
      "25    25\n",
      "dtype: int64\n",
      "dict:\n",
      "a     0\n",
      "b     1\n",
      "c     2\n",
      "e     3\n",
      "d     4\n",
      "f     5\n",
      "g     6\n",
      "h     7\n",
      "i     8\n",
      "j     9\n",
      "k    10\n",
      "l    11\n",
      "m    12\n",
      "n    13\n",
      "o    14\n",
      "p    15\n",
      "q    16\n",
      "r    17\n",
      "s    18\n",
      "t    19\n",
      "u    20\n",
      "v    21\n",
      "w    22\n",
      "x    23\n",
      "y    24\n",
      "z    25\n",
      "dtype: int64\n"
     ]
    }
   ],
   "source": [
    "import pandas as pd\n",
    "\n",
    "myserieslist = pd.Series(mylist)\n",
    "myseriesarr = pd.Series(myarr)\n",
    "myseriesdict = pd.Series(mydict)\n",
    "\n",
    "print(f\"list:\\n{myserieslist}\\narr:\\n{myseriesarr}\\ndict:\\n{myseriesdict}\")"
   ]
  },
  {
   "cell_type": "markdown",
   "id": "7eec002d-cb3f-4192-95ba-69d3c319c8e1",
   "metadata": {},
   "source": [
    "### Task 2"
   ]
  },
  {
   "cell_type": "code",
   "execution_count": 36,
   "id": "591d617d-9a53-43a4-9475-7f9f044db994",
   "metadata": {},
   "outputs": [
    {
     "name": "stdout",
     "output_type": "stream",
     "text": [
      "a     0\n",
      "b     1\n",
      "c     2\n",
      "e     3\n",
      "d     4\n",
      "f     5\n",
      "g     6\n",
      "h     7\n",
      "i     8\n",
      "j     9\n",
      "k    10\n",
      "l    11\n",
      "m    12\n",
      "n    13\n",
      "o    14\n",
      "p    15\n",
      "q    16\n",
      "r    17\n",
      "s    18\n",
      "t    19\n",
      "u    20\n",
      "v    21\n",
      "w    22\n",
      "x    23\n",
      "y    24\n",
      "z    25\n",
      "dtype: int64\n"
     ]
    }
   ],
   "source": [
    "import numpy as np\n",
    "mylist = list('abcedfghijklmnopqrstuvwxyz')\n",
    "myarr = np.arange(26)\n",
    "mydict = dict(zip(mylist, myarr))\n",
    "ser = pd.Series(mydict)\n",
    "print(ser)"
   ]
  },
  {
   "cell_type": "code",
   "execution_count": 37,
   "id": "71798b88-3b64-428b-99e3-3ba255dcab3b",
   "metadata": {},
   "outputs": [
    {
     "name": "stdout",
     "output_type": "stream",
     "text": [
      "   index  value\n",
      "0      a      0\n",
      "1      b      1\n",
      "2      c      2\n",
      "3      e      3\n",
      "4      d      4\n",
      "5      f      5\n",
      "6      g      6\n",
      "7      h      7\n",
      "8      i      8\n",
      "9      j      9\n",
      "10     k     10\n",
      "11     l     11\n",
      "12     m     12\n",
      "13     n     13\n",
      "14     o     14\n",
      "15     p     15\n",
      "16     q     16\n",
      "17     r     17\n",
      "18     s     18\n",
      "19     t     19\n",
      "20     u     20\n",
      "21     v     21\n",
      "22     w     22\n",
      "23     x     23\n",
      "24     y     24\n",
      "25     z     25\n"
     ]
    }
   ],
   "source": [
    "df = ser.reset_index()\n",
    "df.columns = ['index', 'value']\n",
    "print(df)"
   ]
  },
  {
   "cell_type": "markdown",
   "id": "cc8cd1ab-c590-47b2-9437-6fdd0de9e76d",
   "metadata": {},
   "source": [
    "### Task 3"
   ]
  },
  {
   "cell_type": "code",
   "execution_count": 38,
   "id": "3a237a5e-c12b-4875-92c6-a83d61b5675d",
   "metadata": {},
   "outputs": [],
   "source": [
    "import numpy as np\n",
    "mylist = list('abcedfghijklmnopqrstuvwxyz')\n",
    "myarr = np.arange(26)\n",
    "mydict = dict(zip(mylist, myarr))"
   ]
  },
  {
   "cell_type": "code",
   "execution_count": 39,
   "id": "cf89afab-31a1-4015-b1df-9a0a07f23a63",
   "metadata": {},
   "outputs": [
    {
     "name": "stdout",
     "output_type": "stream",
     "text": [
      "   ser1  ser2\n",
      "0     a     0\n",
      "1     b     1\n",
      "2     c     2\n",
      "3     e     3\n",
      "4     d     4\n",
      "5     f     5\n",
      "6     g     6\n",
      "7     h     7\n",
      "8     i     8\n",
      "9     j     9\n",
      "10    k    10\n",
      "11    l    11\n",
      "12    m    12\n",
      "13    n    13\n",
      "14    o    14\n",
      "15    p    15\n",
      "16    q    16\n",
      "17    r    17\n",
      "18    s    18\n",
      "19    t    19\n",
      "20    u    20\n",
      "21    v    21\n",
      "22    w    22\n",
      "23    x    23\n",
      "24    y    24\n",
      "25    z    25\n"
     ]
    }
   ],
   "source": [
    "import pandas as pd\n",
    "\n",
    "ser1 = pd.Series(mylist)\n",
    "ser2 = pd.Series(myarr)\n",
    "\n",
    "df = pd.DataFrame({'ser1': ser1, 'ser2': ser2})\n",
    "\n",
    "print(df)"
   ]
  },
  {
   "cell_type": "markdown",
   "id": "958e3175-99f9-4c1c-8934-27d33e94aad7",
   "metadata": {},
   "source": [
    "### Task 4"
   ]
  },
  {
   "cell_type": "code",
   "execution_count": 40,
   "id": "24c89836-de06-459d-a50b-ba68a4663f5e",
   "metadata": {},
   "outputs": [],
   "source": [
    "import pandas as pd\n",
    "\n",
    "ser = pd.Series(list('abcedfghijklmnopqrstuvwxyz'))"
   ]
  },
  {
   "cell_type": "code",
   "execution_count": 41,
   "id": "3a36c3fb-23ef-4231-9908-4c8c8b953c29",
   "metadata": {},
   "outputs": [
    {
     "name": "stdout",
     "output_type": "stream",
     "text": [
      "0     a\n",
      "1     b\n",
      "2     c\n",
      "3     e\n",
      "4     d\n",
      "5     f\n",
      "6     g\n",
      "7     h\n",
      "8     i\n",
      "9     j\n",
      "10    k\n",
      "11    l\n",
      "12    m\n",
      "13    n\n",
      "14    o\n",
      "15    p\n",
      "16    q\n",
      "17    r\n",
      "18    s\n",
      "19    t\n",
      "20    u\n",
      "21    v\n",
      "22    w\n",
      "23    x\n",
      "24    y\n",
      "25    z\n",
      "Name: latin_letters, dtype: object\n"
     ]
    }
   ],
   "source": [
    "ser.name = \"latin_letters\"\n",
    "\n",
    "print(ser)"
   ]
  },
  {
   "cell_type": "markdown",
   "id": "2d88533f-3f35-47be-b34f-d71cbf9c1eca",
   "metadata": {},
   "source": [
    "### Task 5"
   ]
  },
  {
   "cell_type": "code",
   "execution_count": 42,
   "id": "67ea5340-ebef-4b76-9bc2-915e07e61020",
   "metadata": {},
   "outputs": [],
   "source": [
    "import pandas as pd\n",
    "\n",
    "ser1 = pd.Series([1, 2, 3, 4, 5])\n",
    "ser2 = pd.Series([4, 5, 6, 7, 8])"
   ]
  },
  {
   "cell_type": "code",
   "execution_count": 12,
   "id": "1b9a002b-f659-42c0-b63f-c3e00096efa4",
   "metadata": {},
   "outputs": [
    {
     "name": "stdout",
     "output_type": "stream",
     "text": [
      "0    1\n",
      "1    2\n",
      "2    3\n",
      "dtype: int64\n"
     ]
    }
   ],
   "source": [
    "result = ser1[~ser1.isin(ser2)]\n",
    "print(result)"
   ]
  },
  {
   "cell_type": "code",
   "execution_count": null,
   "id": "54f42855-e93b-4375-9eeb-910dac9fa6bc",
   "metadata": {},
   "outputs": [],
   "source": []
  },
  {
   "cell_type": "markdown",
   "id": "a6c85764-0f06-43c0-8d5e-734e73dceaa9",
   "metadata": {},
   "source": [
    "### Task 6"
   ]
  },
  {
   "cell_type": "code",
   "execution_count": 5,
   "id": "2d894da4-5214-4657-bdcc-303dad36354b",
   "metadata": {},
   "outputs": [],
   "source": [
    "import pandas as pd\n",
    "\n",
    "ser1 = pd.Series([1, 2, 3, 4, 5])\n",
    "ser2 = pd.Series([4, 5, 6, 7, 8])"
   ]
  },
  {
   "cell_type": "code",
   "execution_count": 7,
   "id": "0f2a36d5-697a-41c2-a8e4-b55fecd407c9",
   "metadata": {},
   "outputs": [
    {
     "name": "stdout",
     "output_type": "stream",
     "text": [
      "0    1\n",
      "1    2\n",
      "2    3\n",
      "3    6\n",
      "4    7\n",
      "5    8\n",
      "dtype: int64\n"
     ]
    }
   ],
   "source": [
    "result = pd.Series(list(set(ser1) ^ set(ser2)))\n",
    "print(result)"
   ]
  },
  {
   "cell_type": "markdown",
   "id": "715cac38-1dd6-4064-bddd-ee6d8a0ba1f5",
   "metadata": {},
   "source": [
    "### Task 7"
   ]
  },
  {
   "cell_type": "code",
   "execution_count": 16,
   "id": "7ff06108-bdae-44ab-bc42-3f0a3ab8844c",
   "metadata": {},
   "outputs": [],
   "source": [
    "import pandas as pd\n",
    "import numpy as np\n",
    "\n",
    "ser = pd.Series(np.random.normal(10, 5, 25))"
   ]
  },
  {
   "cell_type": "code",
   "execution_count": 17,
   "id": "15ca50de-34e8-40d9-a923-4435a30149a8",
   "metadata": {},
   "outputs": [
    {
     "name": "stdout",
     "output_type": "stream",
     "text": [
      "Минимум: 1.8279931496394255\n",
      "25-й процентиль: 5.031141287679973\n",
      "Медиана: 7.718956599884988\n",
      "75-й процентиль: 11.303075707512312\n",
      "Максимум: 20.728803973556584\n"
     ]
    }
   ],
   "source": [
    "min_val = ser.min()\n",
    "q25 = ser.quantile(0.25)\n",
    "median = ser.median()\n",
    "q75 = ser.quantile(0.75)\n",
    "max_val = ser.max()\n",
    "\n",
    "print(f\"Минимум: {min_val}\")\n",
    "print(f\"25-й процентиль: {q25}\")\n",
    "print(f\"Медиана: {median}\")\n",
    "print(f\"75-й процентиль: {q75}\")\n",
    "print(f\"Максимум: {max_val}\")"
   ]
  },
  {
   "cell_type": "markdown",
   "id": "ea3a827d-7ebe-4848-844c-7907468ba073",
   "metadata": {},
   "source": [
    "### Task 8"
   ]
  },
  {
   "cell_type": "code",
   "execution_count": 12,
   "id": "1c324754-70c7-46d7-8edf-bff5e3aa5923",
   "metadata": {},
   "outputs": [
    {
     "name": "stdout",
     "output_type": "stream",
     "text": [
      "0     a\n",
      "1     f\n",
      "2     f\n",
      "3     a\n",
      "4     d\n",
      "5     b\n",
      "6     a\n",
      "7     h\n",
      "8     a\n",
      "9     h\n",
      "10    g\n",
      "11    d\n",
      "12    e\n",
      "13    b\n",
      "14    a\n",
      "15    g\n",
      "16    a\n",
      "17    c\n",
      "18    d\n",
      "19    b\n",
      "20    h\n",
      "21    a\n",
      "22    b\n",
      "23    e\n",
      "24    a\n",
      "25    a\n",
      "26    h\n",
      "27    a\n",
      "28    b\n",
      "29    g\n",
      "dtype: object\n"
     ]
    }
   ],
   "source": [
    "import pandas as pd\n",
    "import numpy as np\n",
    "\n",
    "ser = pd.Series(np.take(list('abcdefgh'), np.random.randint(8, size=30)))\n",
    "print(ser)"
   ]
  },
  {
   "cell_type": "code",
   "execution_count": 13,
   "id": "ed5e1016-a796-4dfc-ae0c-cf9771053871",
   "metadata": {},
   "outputs": [
    {
     "name": "stdout",
     "output_type": "stream",
     "text": [
      "a    10\n",
      "b     5\n",
      "h     4\n",
      "d     3\n",
      "g     3\n",
      "f     2\n",
      "e     2\n",
      "c     1\n",
      "Name: count, dtype: int64\n"
     ]
    }
   ],
   "source": [
    "freq = ser.value_counts()\n",
    "\n",
    "print(freq)"
   ]
  },
  {
   "cell_type": "markdown",
   "id": "98be2a00-fa1d-46dd-bd25-462ab3f21aeb",
   "metadata": {},
   "source": [
    "### Task 9"
   ]
  },
  {
   "cell_type": "code",
   "execution_count": 14,
   "id": "158c85a0-2ee2-4f82-aca4-ab7e03b3bb2f",
   "metadata": {},
   "outputs": [
    {
     "name": "stdout",
     "output_type": "stream",
     "text": [
      "0     4\n",
      "1     1\n",
      "2     1\n",
      "3     1\n",
      "4     1\n",
      "5     2\n",
      "6     1\n",
      "7     1\n",
      "8     4\n",
      "9     2\n",
      "10    1\n",
      "11    3\n",
      "dtype: int64\n"
     ]
    }
   ],
   "source": [
    "import pandas as pd\n",
    "import numpy as np\n",
    "\n",
    "np.random.RandomState(100)\n",
    "ser = pd.Series(np.random.randint(1, 5, [12]))\n",
    "print(ser)"
   ]
  },
  {
   "cell_type": "code",
   "execution_count": 20,
   "id": "732e7f03-6414-4794-b672-43b594a20ae9",
   "metadata": {},
   "outputs": [
    {
     "name": "stdout",
     "output_type": "stream",
     "text": [
      "Index([1, 4], dtype='int64')\n",
      "\n",
      "0          4\n",
      "1          1\n",
      "2          1\n",
      "3          1\n",
      "4          1\n",
      "5     Прочее\n",
      "6          1\n",
      "7          1\n",
      "8          4\n",
      "9     Прочее\n",
      "10         1\n",
      "11    Прочее\n",
      "dtype: object\n"
     ]
    }
   ],
   "source": [
    "top_2 = ser.value_counts().nlargest(2).index\n",
    "print(top_2)\n",
    "\n",
    "ser_modified = ser.where(ser.isin(top_2), other='Прочее')\n",
    "print(f\"\\n{ser_modified}\")"
   ]
  },
  {
   "cell_type": "markdown",
   "id": "2b1ea8cb-b7e7-43f7-b871-80175ad84736",
   "metadata": {},
   "source": [
    "### Task 10"
   ]
  },
  {
   "cell_type": "code",
   "execution_count": 24,
   "id": "bb4b9981-20f9-4453-b632-4b003ff73be7",
   "metadata": {},
   "outputs": [
    {
     "name": "stdout",
     "output_type": "stream",
     "text": [
      "0     0.059016\n",
      "1     0.125158\n",
      "2     0.201815\n",
      "3     0.279327\n",
      "4     0.193465\n",
      "5     0.165666\n",
      "6     0.660808\n",
      "7     0.009951\n",
      "8     0.475273\n",
      "9     0.118749\n",
      "10    0.206423\n",
      "11    0.635820\n",
      "12    0.105031\n",
      "13    0.217631\n",
      "14    0.135855\n",
      "15    0.139652\n",
      "16    0.859041\n",
      "17    0.174780\n",
      "18    0.144010\n",
      "19    0.333639\n",
      "dtype: float64\n"
     ]
    }
   ],
   "source": [
    "import pandas as pd\n",
    "import numpy as np\n",
    "\n",
    "ser = pd.Series(np.random.random(20))\n",
    "print(ser)"
   ]
  },
  {
   "cell_type": "code",
   "execution_count": 26,
   "id": "d39b61c1-e9a0-4eff-aefa-07cae59d2202",
   "metadata": {},
   "outputs": [
    {
     "name": "stdout",
     "output_type": "stream",
     "text": [
      "0      1st\n",
      "1      3rd\n",
      "2      6th\n",
      "3      8th\n",
      "4      6th\n",
      "5      5th\n",
      "6     10th\n",
      "7      1st\n",
      "8      9th\n",
      "9      2nd\n",
      "10     7th\n",
      "11     9th\n",
      "12     2nd\n",
      "13     7th\n",
      "14     3rd\n",
      "15     4th\n",
      "16    10th\n",
      "17     5th\n",
      "18     4th\n",
      "19     8th\n",
      "dtype: category\n",
      "Categories (10, object): ['1st' < '2nd' < '3rd' < '4th' ... '7th' < '8th' < '9th' < '10th']\n"
     ]
    }
   ],
   "source": [
    "deciles = pd.qcut(ser, 10, labels=[\"1st\", \"2nd\", \"3rd\", \"4th\", \"5th\", \n",
    "                                    \"6th\", \"7th\", \"8th\", \"9th\", \"10th\"])\n",
    "\n",
    "print(deciles)"
   ]
  },
  {
   "cell_type": "markdown",
   "id": "e70873bb-7a02-410d-a3ff-280059c5afc2",
   "metadata": {},
   "source": [
    "### Task 11"
   ]
  },
  {
   "cell_type": "code",
   "execution_count": 27,
   "id": "1ca42d01-4aa3-422c-bbb0-1ef3c12baa32",
   "metadata": {},
   "outputs": [
    {
     "name": "stdout",
     "output_type": "stream",
     "text": [
      "0     8\n",
      "1     9\n",
      "2     5\n",
      "3     2\n",
      "4     8\n",
      "5     9\n",
      "6     7\n",
      "7     8\n",
      "8     8\n",
      "9     5\n",
      "10    3\n",
      "11    8\n",
      "12    6\n",
      "13    1\n",
      "14    6\n",
      "15    1\n",
      "16    4\n",
      "17    1\n",
      "18    2\n",
      "19    3\n",
      "20    2\n",
      "21    3\n",
      "22    7\n",
      "23    7\n",
      "24    5\n",
      "25    2\n",
      "26    8\n",
      "27    2\n",
      "28    7\n",
      "29    7\n",
      "30    9\n",
      "31    8\n",
      "32    9\n",
      "33    5\n",
      "34    6\n",
      "dtype: int64\n"
     ]
    }
   ],
   "source": [
    "import pandas as pd\n",
    "import numpy as np\n",
    "\n",
    "ser = pd.Series(np.random.randint(1, 10, 35))\n",
    "print(ser)"
   ]
  },
  {
   "cell_type": "code",
   "execution_count": 28,
   "id": "4c2c5df6-5bec-41b9-ba04-274fb6dea75a",
   "metadata": {},
   "outputs": [
    {
     "name": "stdout",
     "output_type": "stream",
     "text": [
      "   0  1  2  3  4\n",
      "0  8  9  5  2  8\n",
      "1  9  7  8  8  5\n",
      "2  3  8  6  1  6\n",
      "3  1  4  1  2  3\n",
      "4  2  3  7  7  5\n",
      "5  2  8  2  7  7\n",
      "6  9  8  9  5  6\n"
     ]
    }
   ],
   "source": [
    "df = pd.DataFrame(ser.values.reshape(7, 5))\n",
    "\n",
    "print(df)"
   ]
  },
  {
   "cell_type": "markdown",
   "id": "b0b07a5a-1ca0-4983-a65a-970c8f73c8ca",
   "metadata": {},
   "source": [
    "### Task 12"
   ]
  },
  {
   "cell_type": "code",
   "execution_count": 33,
   "id": "3762ba92-a5af-4f0d-b86f-1c4d53076d64",
   "metadata": {},
   "outputs": [
    {
     "name": "stdout",
     "output_type": "stream",
     "text": [
      "0    7\n",
      "1    8\n",
      "2    2\n",
      "3    7\n",
      "4    9\n",
      "5    3\n",
      "6    9\n",
      "dtype: int64\n"
     ]
    }
   ],
   "source": [
    "import pandas as pd\n",
    "import numpy as np\n",
    "\n",
    "ser = pd.Series(np.random.randint(1, 10, 7))\n",
    "print(ser)"
   ]
  },
  {
   "cell_type": "code",
   "execution_count": 34,
   "id": "c030ac51-c0ce-4261-9ab7-5038e1a6a986",
   "metadata": {},
   "outputs": [
    {
     "name": "stdout",
     "output_type": "stream",
     "text": [
      "индексы: [4, 5, 6]\n"
     ]
    }
   ],
   "source": [
    "positions = ser.index[ser % 3 == 0]\n",
    "\n",
    "print(\"индексы:\", list(positions))"
   ]
  },
  {
   "cell_type": "markdown",
   "id": "694c1549-a979-416d-bebc-3f554bc98fcd",
   "metadata": {},
   "source": [
    "### Task 13"
   ]
  },
  {
   "cell_type": "code",
   "execution_count": 37,
   "id": "aa757158-b7e5-45bc-a494-bc86bb1706b7",
   "metadata": {},
   "outputs": [],
   "source": [
    "import pandas as pd\n",
    "\n",
    "ser = pd.Series(list('abcdefghijklmnopqrstuvwxyz'))"
   ]
  },
  {
   "cell_type": "code",
   "execution_count": 38,
   "id": "82668a6e-ea14-4a95-bae1-bd7878cb50a7",
   "metadata": {},
   "outputs": [
    {
     "name": "stdout",
     "output_type": "stream",
     "text": [
      "0     a\n",
      "4     e\n",
      "8     i\n",
      "14    o\n",
      "20    u\n",
      "dtype: object\n"
     ]
    }
   ],
   "source": [
    "pos = [0, 4, 8, 14, 20]\n",
    "result = ser.iloc[pos]\n",
    "\n",
    "print(result)"
   ]
  },
  {
   "cell_type": "markdown",
   "id": "3f3f457e-25ff-489f-a963-3eee82be3e68",
   "metadata": {},
   "source": [
    "### Task 14"
   ]
  },
  {
   "cell_type": "code",
   "execution_count": 37,
   "id": "97bb0ee3-9228-418f-aa71-c559cd15f4b9",
   "metadata": {},
   "outputs": [],
   "source": [
    "import pandas as pd\n",
    "\n",
    "ser1 = pd.Series(range(5))\n",
    "ser2 = pd.Series(list('abcde'))"
   ]
  },
  {
   "cell_type": "code",
   "execution_count": 38,
   "id": "c7afd57e-55a0-4b19-b75e-760e46700f94",
   "metadata": {},
   "outputs": [
    {
     "name": "stdout",
     "output_type": "stream",
     "text": [
      "Горизонтальное:\n",
      "   0  1\n",
      "0  0  a\n",
      "1  1  b\n",
      "2  2  c\n",
      "3  3  d\n",
      "4  4  e\n",
      "Вертикальное:\n",
      "0    0\n",
      "1    1\n",
      "2    2\n",
      "3    3\n",
      "4    4\n",
      "0    a\n",
      "1    b\n",
      "2    c\n",
      "3    d\n",
      "4    e\n",
      "dtype: object\n"
     ]
    }
   ],
   "source": [
    "df_horizontal = pd.concat([ser1, ser2], axis=1)\n",
    "df_vertical = pd.concat([ser1, ser2], axis=0)\n",
    "\n",
    "print(f\"Горизонтальное:\\n{df_horizontal}\")\n",
    "print(f\"Вертикальное:\\n{df_vertical}\")"
   ]
  },
  {
   "cell_type": "markdown",
   "id": "e0a3f181-d394-443f-a0be-ae0c90b0e321",
   "metadata": {},
   "source": [
    "### Task 15"
   ]
  },
  {
   "cell_type": "code",
   "execution_count": 3,
   "id": "c5b3d072-519c-4b92-89e3-86c77ee4003d",
   "metadata": {},
   "outputs": [],
   "source": [
    "import pandas as pd\n",
    "\n",
    "ser1 = pd.Series([10, 9, 6, 5, 3, 1, 12, 8, 13])\n",
    "ser2 = pd.Series([1, 3, 10, 13])"
   ]
  },
  {
   "cell_type": "code",
   "execution_count": 4,
   "id": "35244325-837f-4405-aba5-1273b1a0c124",
   "metadata": {},
   "outputs": [
    {
     "name": "stdout",
     "output_type": "stream",
     "text": [
      "[0, 4, 5, 8]\n"
     ]
    }
   ],
   "source": [
    "positions = ser1[ser1.isin(ser2)].index.tolist()\n",
    "\n",
    "print(positions)"
   ]
  },
  {
   "cell_type": "markdown",
   "id": "0c1ddef1-ebb0-40fb-b322-8f709131eb92",
   "metadata": {},
   "source": [
    "### Task 16"
   ]
  },
  {
   "cell_type": "code",
   "execution_count": 39,
   "id": "125f20cd-4aa9-496b-a944-b6094ffb873f",
   "metadata": {},
   "outputs": [
    {
     "name": "stdout",
     "output_type": "stream",
     "text": [
      "0    0\n",
      "1    1\n",
      "2    2\n",
      "3    3\n",
      "4    4\n",
      "5    5\n",
      "6    6\n",
      "7    7\n",
      "8    8\n",
      "9    9\n",
      "dtype: int64\n",
      "0    0.741735\n",
      "1    1.604139\n",
      "2    2.869631\n",
      "3    3.964396\n",
      "4    4.961460\n",
      "5    5.795204\n",
      "6    6.089794\n",
      "7    7.081635\n",
      "8    8.834995\n",
      "9    9.953904\n",
      "dtype: float64\n",
      "\n"
     ]
    }
   ],
   "source": [
    "import numpy as np\n",
    "import pandas as pd\n",
    "\n",
    "truth = pd.Series(range(10))\n",
    "pred = pd.Series(range(10)) + np.random.random(10)\n",
    "print(f\"{truth}\\n{pred}\\n\")"
   ]
  },
  {
   "cell_type": "code",
   "execution_count": 40,
   "id": "3128ae88-9480-4330-81e3-cfe9c75d7d2c",
   "metadata": {},
   "outputs": [
    {
     "name": "stdout",
     "output_type": "stream",
     "text": [
      "0.5780101478230326\n"
     ]
    }
   ],
   "source": [
    "mse = np.mean((truth - pred) ** 2)\n",
    "\n",
    "print(mse)"
   ]
  },
  {
   "cell_type": "markdown",
   "id": "e43dfae4-35a6-4aac-8ebe-b8f6d12cc59c",
   "metadata": {},
   "source": [
    "### Task 17"
   ]
  },
  {
   "cell_type": "code",
   "execution_count": 45,
   "id": "dcae27ca-8045-4945-bd03-b63d87486fb8",
   "metadata": {},
   "outputs": [],
   "source": [
    "import pandas as pd\n",
    "\n",
    "ser = pd.Series(['how', 'to', 'kick', 'ass?'])"
   ]
  },
  {
   "cell_type": "code",
   "execution_count": 46,
   "id": "3d05780e-512c-4e8e-a383-197f56877c61",
   "metadata": {},
   "outputs": [
    {
     "name": "stdout",
     "output_type": "stream",
     "text": [
      "0     How\n",
      "1      To\n",
      "2    Kick\n",
      "3    Ass?\n",
      "dtype: object\n"
     ]
    }
   ],
   "source": [
    "ser_capitalized = ser.str.capitalize()\n",
    "\n",
    "print(ser_capitalized)"
   ]
  },
  {
   "cell_type": "markdown",
   "id": "428a9561-7e55-4971-9792-742a06cb6241",
   "metadata": {},
   "source": [
    "### Task 18"
   ]
  },
  {
   "cell_type": "code",
   "execution_count": 12,
   "id": "12964dfd-24e1-4cd7-a9d5-9ed0d9870100",
   "metadata": {},
   "outputs": [],
   "source": [
    "import pandas as pd\n",
    "\n",
    "ser = pd.Series(['how', 'to', 'kick', 'ass?'])"
   ]
  },
  {
   "cell_type": "code",
   "execution_count": 13,
   "id": "b1e3d8cd-90f7-445a-b92a-bd94c8a5f958",
   "metadata": {},
   "outputs": [
    {
     "name": "stdout",
     "output_type": "stream",
     "text": [
      "0    3\n",
      "1    2\n",
      "2    4\n",
      "3    4\n",
      "dtype: int64\n"
     ]
    }
   ],
   "source": [
    "char_counts = ser.str.len()\n",
    "\n",
    "print(char_counts)"
   ]
  },
  {
   "cell_type": "markdown",
   "id": "7c634041-22b2-4e4d-9586-e9b00a9a4fe0",
   "metadata": {},
   "source": [
    "### Task 19"
   ]
  },
  {
   "cell_type": "code",
   "execution_count": 14,
   "id": "240da53d-177a-49ce-9e4a-8ce3e7f5429a",
   "metadata": {},
   "outputs": [],
   "source": [
    "import pandas as pd\n",
    "\n",
    "ser = pd.Series([1, 3, 6, 10, 15, 21, 27, 35])"
   ]
  },
  {
   "cell_type": "code",
   "execution_count": 16,
   "id": "d69b3fd2-22ec-47b0-b30b-02c8fe707a3b",
   "metadata": {},
   "outputs": [
    {
     "name": "stdout",
     "output_type": "stream",
     "text": [
      "[nan, 2.0, 3.0, 4.0, 5.0, 6.0, 6.0, 8.0]\n",
      "[nan, nan, 1.0, 1.0, 1.0, 1.0, 0.0, 2.0]\n"
     ]
    }
   ],
   "source": [
    "first_diff = ser.diff()\n",
    "second_diff = first_diff.diff()\n",
    "\n",
    "print(first_diff.tolist())\n",
    "print(second_diff.tolist())"
   ]
  },
  {
   "cell_type": "markdown",
   "id": "2c560eb3-6f08-4f95-a88a-98a14deb766b",
   "metadata": {},
   "source": [
    "### Task 20"
   ]
  },
  {
   "cell_type": "code",
   "execution_count": 47,
   "id": "33499a22-0899-4cd3-8b2a-a5fafe3db876",
   "metadata": {},
   "outputs": [],
   "source": [
    "import pandas as pd\n",
    "\n",
    "ser = pd.Series(['01 Jan 2010', '02-02-2011', '20120303', '2013/04/04', '2014-05-05', '2015-06-06T12:20'])"
   ]
  },
  {
   "cell_type": "code",
   "execution_count": 49,
   "id": "81b5d3e8-645e-4646-99e3-6c273b4902d5",
   "metadata": {},
   "outputs": [
    {
     "name": "stdout",
     "output_type": "stream",
     "text": [
      "0   2010-01-01 00:00:00\n",
      "1   2011-02-02 00:00:00\n",
      "2   2012-03-03 00:00:00\n",
      "3   2013-04-04 00:00:00\n",
      "4   2014-05-05 00:00:00\n",
      "5   2015-06-06 12:20:00\n",
      "dtype: datetime64[ns]\n"
     ]
    }
   ],
   "source": [
    "ser_datetime = pd.to_datetime(ser, format='mixed')\n",
    "\n",
    "print(ser_datetime)"
   ]
  },
  {
   "cell_type": "markdown",
   "id": "1d9be971-f899-4fac-a51d-f715597cd801",
   "metadata": {},
   "source": [
    "### Task 21"
   ]
  },
  {
   "cell_type": "code",
   "execution_count": 50,
   "id": "096b8823-ba11-43eb-9fa4-009bac4acc1d",
   "metadata": {},
   "outputs": [],
   "source": [
    "import pandas as pd\n",
    "\n",
    "ser = pd.Series(['01 Jan 2010', '02-02-2011', '20120303', '2013/04/04', '2014-05-05', '2015-06-06T12:20'])"
   ]
  },
  {
   "cell_type": "code",
   "execution_count": 61,
   "id": "5fc318e1-e503-4f12-bbf5-3f6afa7c483b",
   "metadata": {},
   "outputs": [
    {
     "name": "stdout",
     "output_type": "stream",
     "text": [
      "Date:  [1, 2, 3, 4, 5, 6]\n",
      "Week number:  [53, 5, 9, 14, 19, 23]\n",
      "Day num of year:  [1, 33, 63, 94, 125, 157]\n",
      "Day of week:  ['Friday', 'Wednesday', 'Saturday', 'Thursday', 'Monday', 'Saturday']\n"
     ]
    }
   ],
   "source": [
    "ser_datetime = pd.to_datetime(ser, format='mixed')\n",
    "\n",
    "dates = ser_datetime.dt.day\n",
    "week_numbers = ser_datetime.dt.isocalendar().week\n",
    "day_of_year = ser_datetime.dt.dayofyear\n",
    "day_of_week = ser_datetime.dt.day_name()\n",
    "\n",
    "print(\"Date: \", list(dates))\n",
    "print(\"Week number: \", list(week_numbers.astype(int)))\n",
    "print(\"Day num of year: \", list(day_of_year))\n",
    "print(\"Day of week: \", list(day_of_week))"
   ]
  },
  {
   "cell_type": "markdown",
   "id": "79dba226-20af-4af5-ab2c-420c102473e4",
   "metadata": {},
   "source": [
    "### Task 22"
   ]
  },
  {
   "cell_type": "code",
   "execution_count": 62,
   "id": "c28cd952-2907-4db2-9e40-2a449aae6d2f",
   "metadata": {},
   "outputs": [],
   "source": [
    "import pandas as pd\n",
    "\n",
    "ser = pd.Series(['Jan 2010', 'Feb 2011', 'Mar 2012'])"
   ]
  },
  {
   "cell_type": "code",
   "execution_count": 64,
   "id": "fa9e4d28-5572-4240-8073-d8c58676ac97",
   "metadata": {},
   "outputs": [
    {
     "name": "stdout",
     "output_type": "stream",
     "text": [
      "0   2010-01-04\n",
      "1   2011-02-04\n",
      "2   2012-03-04\n",
      "dtype: datetime64[ns]\n"
     ]
    }
   ],
   "source": [
    "ser_datetime = pd.to_datetime(ser, format='%b %Y')\n",
    "ser_modified = ser_datetime + pd.DateOffset(days=3)\n",
    "\n",
    "print(ser_modified)"
   ]
  },
  {
   "cell_type": "markdown",
   "id": "1df17e72-aed0-42b9-8356-2aab4ebdc8d0",
   "metadata": {},
   "source": [
    "### Task 23"
   ]
  },
  {
   "cell_type": "code",
   "execution_count": 65,
   "id": "e2c6c183-d868-48e1-ac4c-751ee75bdb1b",
   "metadata": {},
   "outputs": [],
   "source": [
    "import pandas as pd\n",
    "\n",
    "ser = pd.Series(['Apple', 'Orange', 'Plan', 'Python', 'Money'])"
   ]
  },
  {
   "cell_type": "code",
   "execution_count": 66,
   "id": "695a774b-fe47-4591-bdcb-fa071e8b1a57",
   "metadata": {},
   "outputs": [
    {
     "name": "stdout",
     "output_type": "stream",
     "text": [
      "0     Apple\n",
      "1    Orange\n",
      "4     Money\n",
      "dtype: object\n"
     ]
    }
   ],
   "source": [
    "vowels = \"aeiouAEIOU\"\n",
    "ser_filtered = ser[ser.str.count(f\"[{vowels}]\") >= 2]\n",
    "\n",
    "print(ser_filtered)"
   ]
  },
  {
   "cell_type": "markdown",
   "id": "8589e9f3-fc38-46eb-a9af-3137a2566a89",
   "metadata": {},
   "source": [
    "### Task 24"
   ]
  },
  {
   "cell_type": "code",
   "execution_count": 75,
   "id": "09039060-496d-4e78-9237-76d517a45e18",
   "metadata": {},
   "outputs": [],
   "source": [
    "import pandas as pd\n",
    "\n",
    "emails = pd.Series(['buying books at amazom.com', 'rameses@egypt.com', 'matt@t.co', 'narendra@modi.com'])\n",
    "pattern = r'([A-Za-z0-9._%+-]+@[A-Za-z0-9.-]+\\.[A-Za-z]{2,4})'"
   ]
  },
  {
   "cell_type": "code",
   "execution_count": 77,
   "id": "d8ec2f9f-0759-440e-8a2e-4531f286f58d",
   "metadata": {},
   "outputs": [
    {
     "name": "stdout",
     "output_type": "stream",
     "text": [
      "1    rameses@egypt.com\n",
      "2            matt@t.co\n",
      "3    narendra@modi.com\n",
      "Name: 0, dtype: object\n"
     ]
    }
   ],
   "source": [
    "extracted_emails = emails.str.extract(pattern)\n",
    "valid_emails = extracted_emails.dropna().squeeze()\n",
    "\n",
    "print(valid_emails)"
   ]
  },
  {
   "cell_type": "markdown",
   "id": "a81d596b-1ab8-49ee-bb1e-ac4aab76d3b2",
   "metadata": {},
   "source": [
    "### Task 25"
   ]
  },
  {
   "cell_type": "code",
   "execution_count": 78,
   "id": "a18c525e-ec5e-4fde-b9f6-99831dfe3732",
   "metadata": {},
   "outputs": [],
   "source": [
    "import pandas as pd\n",
    "import numpy as np\n",
    "\n",
    "fruit = pd.Series(np.random.choice(['apple', 'banana', 'carrot'], 10))\n",
    "weights = pd.Series(np.linspace(1, 10, 10))"
   ]
  },
  {
   "cell_type": "code",
   "execution_count": 79,
   "id": "bbf80c41-4fc5-47b5-8b27-a64321d19829",
   "metadata": {},
   "outputs": [
    {
     "name": "stdout",
     "output_type": "stream",
     "text": [
      "apple     6.000000\n",
      "banana    6.000000\n",
      "carrot    4.333333\n",
      "dtype: float64\n"
     ]
    }
   ],
   "source": [
    "mean_weights = weights.groupby(fruit).mean()\n",
    "\n",
    "print(mean_weights)"
   ]
  },
  {
   "cell_type": "markdown",
   "id": "270dacd1-4e89-43bd-9434-5d028f7ac49c",
   "metadata": {},
   "source": [
    "### Task 26"
   ]
  },
  {
   "cell_type": "code",
   "execution_count": 80,
   "id": "25795d92-e298-4d7c-94d5-4dd8489846c0",
   "metadata": {},
   "outputs": [],
   "source": [
    "import pandas as pd\n",
    "import numpy as np\n",
    "\n",
    "p = pd.Series([1, 2, 3, 4, 5, 6, 7, 8, 9, 10])\n",
    "q = pd.Series([10, 9, 8, 7, 6, 5, 4, 3, 2, 1])"
   ]
  },
  {
   "cell_type": "code",
   "execution_count": 81,
   "id": "6b0441e9-faac-441c-a50d-14663b44fa9c",
   "metadata": {},
   "outputs": [
    {
     "name": "stdout",
     "output_type": "stream",
     "text": [
      "18.166\n"
     ]
    }
   ],
   "source": [
    "distance = np.sqrt(((p - q) ** 2).sum())\n",
    "\n",
    "print(round(distance, 3))"
   ]
  },
  {
   "cell_type": "markdown",
   "id": "a5fae765-190c-4682-b1d4-75914b293db9",
   "metadata": {},
   "source": [
    "### Task 27"
   ]
  },
  {
   "cell_type": "code",
   "execution_count": 84,
   "id": "c8111049-f985-41fe-9935-e6d7e69691a1",
   "metadata": {},
   "outputs": [],
   "source": [
    "import pandas as pd\n",
    "import numpy as np\n",
    "\n",
    "ser = pd.Series([2, 10, 3, 4, 9, 10, 2, 7, 3])"
   ]
  },
  {
   "cell_type": "code",
   "execution_count": 86,
   "id": "a719c83f-9214-4d95-ace4-75b8f3184c24",
   "metadata": {},
   "outputs": [
    {
     "name": "stdout",
     "output_type": "stream",
     "text": [
      "[1 5 7]\n"
     ]
    }
   ],
   "source": [
    "peaks = np.where((ser.shift(1) < ser) & (ser > ser.shift(-1)))[0]\n",
    "\n",
    "print(peaks)\n"
   ]
  },
  {
   "cell_type": "markdown",
   "id": "398da45f-929a-4cfd-884c-c9a195c12358",
   "metadata": {},
   "source": [
    "### Task 28"
   ]
  },
  {
   "cell_type": "code",
   "execution_count": 90,
   "id": "3b43bb6b-11f5-4c84-ba95-6054d87d5c8d",
   "metadata": {},
   "outputs": [],
   "source": [
    "import pandas as pd\n",
    "\n",
    "my_str = 'dbc deb abed gade'"
   ]
  },
  {
   "cell_type": "code",
   "execution_count": 95,
   "id": "1a165f11-22a2-4b9b-a535-a1c6680377e9",
   "metadata": {},
   "outputs": [
    {
     "name": "stdout",
     "output_type": "stream",
     "text": [
      "dbccdebcabedcgade\n"
     ]
    }
   ],
   "source": [
    "ser = pd.Series(list(my_str))\n",
    "freq = ser.value_counts()\n",
    "least_frequent_char = freq[freq.index != ' '].idxmin()\n",
    "result_str = my_str.replace(' ', least_frequent_char)\n",
    "\n",
    "print(result_str)"
   ]
  },
  {
   "cell_type": "markdown",
   "id": "45a68588-e1c8-4fa9-83fb-794f29bc1c23",
   "metadata": {},
   "source": [
    "### Task 29"
   ]
  },
  {
   "cell_type": "code",
   "execution_count": 1,
   "id": "60e4a5e0-8411-4deb-9a06-865de0c21dbc",
   "metadata": {},
   "outputs": [
    {
     "name": "stdout",
     "output_type": "stream",
     "text": [
      "2000-01-01    9\n",
      "2000-01-08    1\n",
      "2000-01-15    5\n",
      "2000-01-22    5\n",
      "2000-01-29    7\n",
      "2000-02-05    4\n",
      "2000-02-12    2\n",
      "2000-02-19    2\n",
      "2000-02-26    9\n",
      "2000-03-04    1\n",
      "Freq: W-SAT, dtype: int64\n"
     ]
    }
   ],
   "source": [
    "import pandas as pd\n",
    "import numpy as np\n",
    "\n",
    "dates = pd.date_range(start='2000-01-01', periods=10, freq='W-SAT')\n",
    "values = np.random.randint(1, 10, size=10)\n",
    "series = pd.Series(values, index=dates)\n",
    "\n",
    "print(series)"
   ]
  },
  {
   "cell_type": "markdown",
   "id": "0cd1d254-0895-47fd-aea3-d29801ac8d83",
   "metadata": {},
   "source": [
    "### Task 30"
   ]
  },
  {
   "cell_type": "code",
   "execution_count": 3,
   "id": "1f8acb0a-3f41-4aa1-a5a5-937668e6dfac",
   "metadata": {},
   "outputs": [],
   "source": [
    "import pandas as pd\n",
    "import numpy as np\n",
    "\n",
    "ser = pd.Series([1, 10, 3, np.nan], index=pd.to_datetime(['2000-01-01', '2000-01-03', '2000-01-06', '2000-01-08']))"
   ]
  },
  {
   "cell_type": "code",
   "execution_count": 4,
   "id": "41baa714-0b12-4688-8346-603af4a455cd",
   "metadata": {},
   "outputs": [
    {
     "name": "stdout",
     "output_type": "stream",
     "text": [
      "2000-01-01     1.0\n",
      "2000-01-02     1.0\n",
      "2000-01-03    10.0\n",
      "2000-01-04    10.0\n",
      "2000-01-05    10.0\n",
      "2000-01-06     3.0\n",
      "2000-01-07     3.0\n",
      "2000-01-08     3.0\n",
      "Freq: D, dtype: float64\n"
     ]
    }
   ],
   "source": [
    "full_index = pd.date_range(start=ser.index.min(), end=ser.index.max())\n",
    "ser = ser.reindex(full_index).ffill()\n",
    "\n",
    "print(ser)"
   ]
  },
  {
   "cell_type": "markdown",
   "id": "8bfe2c56-597c-4391-88e4-ba70ee94abff",
   "metadata": {},
   "source": [
    "### Task 31"
   ]
  },
  {
   "cell_type": "code",
   "execution_count": 27,
   "id": "f3da4b0f-46c9-4b2a-96e1-77ff4933ce23",
   "metadata": {},
   "outputs": [],
   "source": [
    "import pandas as pd\n",
    "import numpy as np\n",
    "\n",
    "ser = pd.Series(np.arange(20) + np.random.normal(1, 10, 20))"
   ]
  },
  {
   "cell_type": "code",
   "execution_count": 28,
   "id": "189026ec-28d7-4c27-b0e1-cfa77aa31684",
   "metadata": {},
   "outputs": [
    {
     "name": "stdout",
     "output_type": "stream",
     "text": [
      "[np.float64(-0.06629563755356567), np.float64(0.19391551546782906), np.float64(0.18396089226367612), np.float64(-0.028169797704752524), np.float64(0.26903615757032934), np.float64(-0.38319695368072093), np.float64(0.1506014139676712), np.float64(-0.2656112931288127), np.float64(0.2084531251973144), np.float64(-0.3261818592687684)]\n",
      "Lag having highest correlation: 5\n"
     ]
    }
   ],
   "source": [
    "autocorrelations = [ser.autocorr(lag) for lag in range(1, 11)]\n",
    "max_lag = np.argmax(autocorrelations) + 1  \n",
    "\n",
    "print(autocorrelations)\n",
    "print(\"Lag having highest correlation:\", max_lag)\n"
   ]
  },
  {
   "cell_type": "code",
   "execution_count": 29,
   "id": "ccac8660-6781-4fe9-8a9c-a4b055cc3774",
   "metadata": {},
   "outputs": [
    {
     "name": "stdout",
     "output_type": "stream",
     "text": [
      "[-0.03581945085095045, -0.3554658547577508, 0.2435387274242055, -0.22886231778550958, -0.0610049216621662, 0.10261951291041886, -0.5934975070400584, -0.12621105571001182, 0.32558148560211725, -0.027390597912749007]\n",
      "Lag having highest correlation: 9\n"
     ]
    }
   ],
   "source": [
    "import pandas as pd\n",
    "import numpy as np\n",
    "\n",
    "np.random.seed(42)\n",
    "ser = pd.Series(np.arange(20) + np.random.normal(1, 10, 20))\n",
    "\n",
    "autocorrelations = [ser.autocorr(lag) for lag in range(1, 11)]\n",
    "\n",
    "max_lag = np.argmax(autocorrelations) + 1 \n",
    "float_data = list(map(float, autocorrelations))\n",
    "\n",
    "print(float_data)\n",
    "print(\"Lag having highest correlation:\", max_lag)\n"
   ]
  },
  {
   "cell_type": "markdown",
   "id": "74e378cb-7937-4271-b5a3-e29dc003d446",
   "metadata": {},
   "source": [
    "### Task 32"
   ]
  },
  {
   "cell_type": "code",
   "execution_count": 10,
   "id": "18a2979f-8d5d-42b6-afd1-6331412d846e",
   "metadata": {},
   "outputs": [
    {
     "name": "stdout",
     "output_type": "stream",
     "text": [
      "      crim  zn  indus  chas    nox     rm   age     dis  rad  tax  ptratio  \\\n",
      "0  0.21977   0   6.91     0  0.448  5.602  62.0  6.0877    3  233     17.9   \n",
      "1  0.06860   0   2.89     0  0.445  7.416  62.5  3.4952    2  276     18.0   \n",
      "2  2.73397   0  19.58     0  0.871  5.597  94.9  1.5257    5  403     14.7   \n",
      "3  0.03150  95   1.47     0  0.403  6.975  15.3  7.6534    3  402     17.0   \n",
      "4  0.19073  22   5.86     0  0.431  6.718  17.5  7.8265    7  330     19.1   \n",
      "5  0.05561  70   2.24     0  0.400  7.041  10.0  7.8278    5  358     14.8   \n",
      "6  0.02899  40   1.25     0  0.429  6.939  34.5  8.7921    1  335     19.7   \n",
      "7  9.91655   0  18.10     0  0.693  5.852  77.8  1.5004   24  666     20.2   \n",
      "8  7.52601   0  18.10     0  0.713  6.417  98.3  2.1850   24  666     20.2   \n",
      "9  0.17783   0   9.69     0  0.585  5.569  73.5  2.3999    6  391     19.2   \n",
      "\n",
      "        b  lstat  medv  \n",
      "0  396.90  16.20  19.4  \n",
      "1  396.90   6.19  33.2  \n",
      "2  351.85  21.45  15.4  \n",
      "3  396.90   4.56  34.9  \n",
      "4  393.74   6.56  26.2  \n",
      "5  371.58   4.74  29.0  \n",
      "6  389.85   5.89  26.6  \n",
      "7  338.16  29.97   6.3  \n",
      "8  304.21  19.31  13.0  \n",
      "9  395.77  15.10  17.5  \n"
     ]
    }
   ],
   "source": [
    "import pandas as pd\n",
    "\n",
    "url = \"https://raw.githubusercontent.com/selva86/datasets/master/BostonHousing.csv\"\n",
    "df = pd.read_csv(url, skiprows=lambda x: x % 50 != 0)\n",
    "\n",
    "print(df)"
   ]
  },
  {
   "cell_type": "markdown",
   "id": "88061cd5-d790-4f7b-bd0b-6773021073e2",
   "metadata": {},
   "source": [
    "### Task 33"
   ]
  },
  {
   "cell_type": "code",
   "execution_count": 12,
   "id": "5c6d2f7f-3c5e-433e-af3a-9700ae96dfe3",
   "metadata": {},
   "outputs": [
    {
     "name": "stdout",
     "output_type": "stream",
     "text": [
      "        crim    zn  indus  chas    nox     rm   age     dis  rad  tax  \\\n",
      "0    0.00632  18.0   2.31     0  0.538  6.575  65.2  4.0900    1  296   \n",
      "1    0.02731   0.0   7.07     0  0.469  6.421  78.9  4.9671    2  242   \n",
      "2    0.02729   0.0   7.07     0  0.469  7.185  61.1  4.9671    2  242   \n",
      "3    0.03237   0.0   2.18     0  0.458  6.998  45.8  6.0622    3  222   \n",
      "4    0.06905   0.0   2.18     0  0.458  7.147  54.2  6.0622    3  222   \n",
      "..       ...   ...    ...   ...    ...    ...   ...     ...  ...  ...   \n",
      "501  0.06263   0.0  11.93     0  0.573  6.593  69.1  2.4786    1  273   \n",
      "502  0.04527   0.0  11.93     0  0.573  6.120  76.7  2.2875    1  273   \n",
      "503  0.06076   0.0  11.93     0  0.573  6.976  91.0  2.1675    1  273   \n",
      "504  0.10959   0.0  11.93     0  0.573  6.794  89.3  2.3889    1  273   \n",
      "505  0.04741   0.0  11.93     0  0.573  6.030  80.8  2.5050    1  273   \n",
      "\n",
      "     ptratio       b  lstat  medv  \n",
      "0       15.3  396.90   4.98   Low  \n",
      "1       17.8  396.90   9.14   Low  \n",
      "2       17.8  392.83   4.03  High  \n",
      "3       18.7  394.63   2.94  High  \n",
      "4       18.7  396.90   5.33  High  \n",
      "..       ...     ...    ...   ...  \n",
      "501     21.0  391.99   9.67   Low  \n",
      "502     21.0  396.90   9.08   Low  \n",
      "503     21.0  396.90   5.64   Low  \n",
      "504     21.0  393.45   6.48   Low  \n",
      "505     21.0  396.90   7.88   Low  \n",
      "\n",
      "[506 rows x 14 columns]\n"
     ]
    }
   ],
   "source": [
    "import pandas as pd\n",
    "\n",
    "url = \"https://raw.githubusercontent.com/selva86/datasets/master/BostonHousing.csv\"\n",
    "df = pd.read_csv(url)\n",
    "\n",
    "df['medv'] = df['medv'].apply(lambda x: 'Low' if x < 25 else 'High')\n",
    "\n",
    "print(df)"
   ]
  },
  {
   "cell_type": "markdown",
   "id": "850a81ba-2419-400a-81ab-081015cf1072",
   "metadata": {},
   "source": [
    "### Task 34"
   ]
  },
  {
   "cell_type": "code",
   "execution_count": 13,
   "id": "125daac8-1935-4380-b816-64b240c598ab",
   "metadata": {},
   "outputs": [
    {
     "name": "stdout",
     "output_type": "stream",
     "text": [
      "     0   1   2   3\n",
      "0    0   1   2   3\n",
      "1    1   2   3   4\n",
      "2    2   3   4   5\n",
      "3    3   4   5   6\n",
      "4    4   5   6   7\n",
      "5    5   6   7   8\n",
      "6    6   7   8   9\n",
      "7    7   8   9  10\n",
      "8    8   9  10  11\n",
      "9    9  10  11  12\n",
      "10  10  11  12  13\n",
      "11  11  12  13  14\n"
     ]
    }
   ],
   "source": [
    "import pandas as pd\n",
    "import numpy as np\n",
    "\n",
    "L = pd.Series(range(15))\n",
    "steps = np.array([L[i:i+4].values for i in range(len(L)-3)])\n",
    "df = pd.DataFrame(steps)\n",
    "\n",
    "print(df)"
   ]
  },
  {
   "cell_type": "markdown",
   "id": "03e8e166-f44c-47e2-a3ba-87d495e6898f",
   "metadata": {},
   "source": [
    "### Task 35"
   ]
  },
  {
   "cell_type": "code",
   "execution_count": 14,
   "id": "696c6507-8772-4528-aeda-37c0b9662097",
   "metadata": {},
   "outputs": [
    {
     "name": "stdout",
     "output_type": "stream",
     "text": [
      "      crim  medv\n",
      "0  0.00632  24.0\n",
      "1  0.02731  21.6\n",
      "2  0.02729  34.7\n",
      "3  0.03237  33.4\n",
      "4  0.06905  36.2\n"
     ]
    }
   ],
   "source": [
    "import pandas as pd\n",
    "\n",
    "url = \"https://raw.githubusercontent.com/selva86/datasets/master/BostonHousing.csv\"\n",
    "boston_df = pd.read_csv(url)\n",
    "boston_subset = boston_df[['crim', 'medv']]\n",
    "\n",
    "print(boston_subset.head())"
   ]
  },
  {
   "cell_type": "markdown",
   "id": "f50cf0d0-4a18-43c4-b397-fb3c3d230474",
   "metadata": {},
   "source": [
    "### Task 36"
   ]
  },
  {
   "cell_type": "code",
   "execution_count": 30,
   "id": "d4ff9fb2-de27-488f-aa97-92bd87b6cf0c",
   "metadata": {},
   "outputs": [
    {
     "name": "stdout",
     "output_type": "stream",
     "text": [
      "<class 'pandas.core.frame.DataFrame'>\n",
      "RangeIndex: 93 entries, 0 to 92\n",
      "Data columns (total 27 columns):\n",
      " #   Column              Non-Null Count  Dtype  \n",
      "---  ------              --------------  -----  \n",
      " 0   Manufacturer        89 non-null     object \n",
      " 1   Model               92 non-null     object \n",
      " 2   Type                90 non-null     object \n",
      " 3   Min.Price           86 non-null     float64\n",
      " 4   Price               91 non-null     float64\n",
      " 5   Max.Price           88 non-null     float64\n",
      " 6   MPG.city            84 non-null     float64\n",
      " 7   MPG.highway         91 non-null     float64\n",
      " 8   AirBags             55 non-null     object \n",
      " 9   DriveTrain          86 non-null     object \n",
      " 10  Cylinders           88 non-null     object \n",
      " 11  EngineSize          91 non-null     float64\n",
      " 12  Horsepower          86 non-null     float64\n",
      " 13  RPM                 90 non-null     float64\n",
      " 14  Rev.per.mile        87 non-null     float64\n",
      " 15  Man.trans.avail     88 non-null     object \n",
      " 16  Fuel.tank.capacity  85 non-null     float64\n",
      " 17  Passengers          91 non-null     float64\n",
      " 18  Length              89 non-null     float64\n",
      " 19  Wheelbase           92 non-null     float64\n",
      " 20  Width               87 non-null     float64\n",
      " 21  Turn.circle         88 non-null     float64\n",
      " 22  Rear.seat.room      89 non-null     float64\n",
      " 23  Luggage.room        74 non-null     float64\n",
      " 24  Weight              86 non-null     float64\n",
      " 25  Origin              88 non-null     object \n",
      " 26  Make                90 non-null     object \n",
      "dtypes: float64(18), object(9)\n",
      "memory usage: 19.7+ KB\n",
      "Info: None\n",
      "\n",
      "Summary Statistics:\n",
      "       Min.Price      Price  Max.Price   MPG.city  MPG.highway  EngineSize  \\\n",
      "count  86.000000  91.000000  88.000000  84.000000    91.000000   91.000000   \n",
      "mean   17.118605  19.616484  21.459091  22.404762    29.065934    2.658242   \n",
      "std     8.828290   9.724280  10.696563   5.841520     5.370293    1.045845   \n",
      "min     6.700000   7.400000   7.900000  15.000000    20.000000    1.000000   \n",
      "25%    10.825000  12.350000  14.575000  18.000000    26.000000    1.800000   \n",
      "50%    14.600000  17.700000  19.150000  21.000000    28.000000    2.300000   \n",
      "75%    20.250000  23.500000  24.825000  25.000000    31.000000    3.250000   \n",
      "max    45.400000  61.900000  80.000000  46.000000    50.000000    5.700000   \n",
      "\n",
      "       Horsepower          RPM  Rev.per.mile  Fuel.tank.capacity  Passengers  \\\n",
      "count   86.000000    90.000000     87.000000           85.000000   91.000000   \n",
      "mean   144.000000  5276.666667   2355.000000           16.683529    5.076923   \n",
      "std     53.455204   605.554811    486.916616            3.375748    1.045953   \n",
      "min     55.000000  3800.000000   1320.000000            9.200000    2.000000   \n",
      "25%    100.750000  4800.000000   2017.500000           14.500000    4.000000   \n",
      "50%    140.000000  5200.000000   2360.000000           16.500000    5.000000   \n",
      "75%    170.000000  5787.500000   2565.000000           19.000000    6.000000   \n",
      "max    300.000000  6500.000000   3755.000000           27.000000    8.000000   \n",
      "\n",
      "           Length   Wheelbase      Width  Turn.circle  Rear.seat.room  \\\n",
      "count   89.000000   92.000000  87.000000    88.000000       89.000000   \n",
      "mean   182.865169  103.956522  69.448276    38.954545       27.853933   \n",
      "std     14.792651    6.856317   3.778023     3.304157        3.018129   \n",
      "min    141.000000   90.000000  60.000000    32.000000       19.000000   \n",
      "25%    174.000000   98.000000  67.000000    36.000000       26.000000   \n",
      "50%    181.000000  103.000000  69.000000    39.000000       27.500000   \n",
      "75%    192.000000  110.000000  72.000000    42.000000       30.000000   \n",
      "max    219.000000  119.000000  78.000000    45.000000       36.000000   \n",
      "\n",
      "       Luggage.room       Weight  \n",
      "count     74.000000    86.000000  \n",
      "mean      13.986486  3104.593023  \n",
      "std        3.120824   600.129993  \n",
      "min        6.000000  1695.000000  \n",
      "25%       12.000000  2647.500000  \n",
      "50%       14.000000  3085.000000  \n",
      "75%       16.000000  3567.500000  \n",
      "max       22.000000  4105.000000  \n",
      "\n",
      "Numpy Array (first 5 rows):\n",
      "[['Acura' 'Integra' 'Small' 12.9 15.9 18.8 25.0 31.0 nan 'Front' '4' 1.8\n",
      "  140.0 6300.0 2890.0 'Yes' 13.2 5.0 177.0 102.0 68.0 37.0 26.5 nan\n",
      "  2705.0 'non-USA' 'Acura Integra']\n",
      " [nan 'Legend' 'Midsize' 29.2 33.9 38.7 18.0 25.0 'Driver & Passenger'\n",
      "  'Front' '6' 3.2 200.0 5500.0 2335.0 'Yes' 18.0 5.0 195.0 115.0 71.0\n",
      "  38.0 30.0 15.0 3560.0 'non-USA' 'Acura Legend']\n",
      " ['Audi' '90' 'Compact' 25.9 29.1 32.3 20.0 26.0 'Driver only' 'Front'\n",
      "  '6' 2.8 172.0 5500.0 2280.0 'Yes' 16.9 5.0 180.0 102.0 67.0 37.0 28.0\n",
      "  14.0 3375.0 'non-USA' 'Audi 90']\n",
      " ['Audi' '100' 'Midsize' nan 37.7 44.6 19.0 26.0 'Driver & Passenger' nan\n",
      "  '6' nan 172.0 5500.0 2535.0 nan 21.1 6.0 193.0 106.0 nan 37.0 31.0 17.0\n",
      "  3405.0 'non-USA' 'Audi 100']\n",
      " ['BMW' '535i' 'Midsize' nan 30.0 nan 22.0 30.0 nan 'Rear' '4' 3.5 208.0\n",
      "  5700.0 2545.0 'Yes' 21.1 4.0 186.0 109.0 69.0 39.0 27.0 13.0 3640.0\n",
      "  'non-USA' 'BMW 535i']]\n",
      "\n",
      "List Representation (first 5 rows):\n",
      "[['Acura', 'Integra', 'Small', 12.9, 15.9, 18.8, 25.0, 31.0, nan, 'Front', '4', 1.8, 140.0, 6300.0, 2890.0, 'Yes', 13.2, 5.0, 177.0, 102.0, 68.0, 37.0, 26.5, nan, 2705.0, 'non-USA', 'Acura Integra'], [nan, 'Legend', 'Midsize', 29.2, 33.9, 38.7, 18.0, 25.0, 'Driver & Passenger', 'Front', '6', 3.2, 200.0, 5500.0, 2335.0, 'Yes', 18.0, 5.0, 195.0, 115.0, 71.0, 38.0, 30.0, 15.0, 3560.0, 'non-USA', 'Acura Legend'], ['Audi', '90', 'Compact', 25.9, 29.1, 32.3, 20.0, 26.0, 'Driver only', 'Front', '6', 2.8, 172.0, 5500.0, 2280.0, 'Yes', 16.9, 5.0, 180.0, 102.0, 67.0, 37.0, 28.0, 14.0, 3375.0, 'non-USA', 'Audi 90'], ['Audi', '100', 'Midsize', nan, 37.7, 44.6, 19.0, 26.0, 'Driver & Passenger', nan, '6', nan, 172.0, 5500.0, 2535.0, nan, 21.1, 6.0, 193.0, 106.0, nan, 37.0, 31.0, 17.0, 3405.0, 'non-USA', 'Audi 100'], ['BMW', '535i', 'Midsize', nan, 30.0, nan, 22.0, 30.0, nan, 'Rear', '4', 3.5, 208.0, 5700.0, 2545.0, 'Yes', 21.1, 4.0, 186.0, 109.0, 69.0, 39.0, 27.0, 13.0, 3640.0, 'non-USA', 'BMW 535i']]\n"
     ]
    }
   ],
   "source": [
    "import pandas as pd\n",
    "\n",
    "url = \"https://raw.githubusercontent.com/selva86/datasets/master/Cars93_miss.csv\"\n",
    "cars_df = pd.read_csv(url)\n",
    "\n",
    "info = cars_df.info()\n",
    "summary_statistics = cars_df.describe()\n",
    "numpy_array = cars_df.to_numpy()\n",
    "list_representation = cars_df.values.tolist()\n",
    "\n",
    "print(\"Info:\", info)\n",
    "print(\"\\nSummary Statistics:\")\n",
    "print(summary_statistics)\n",
    "print(\"\\nNumpy Array (first 5 rows):\")\n",
    "print(numpy_array[:5])\n",
    "print(\"\\nList Representation (first 5 rows):\")\n",
    "print(list_representation[:5])\n"
   ]
  },
  {
   "cell_type": "markdown",
   "id": "ed21cf30-c33e-4bfc-909b-35d1c5d922ff",
   "metadata": {},
   "source": [
    "### Task 37"
   ]
  },
  {
   "cell_type": "code",
   "execution_count": 31,
   "id": "f9dbee00-59c0-442c-8a42-b7ba59842220",
   "metadata": {},
   "outputs": [
    {
     "name": "stdout",
     "output_type": "stream",
     "text": [
      "Производитель: Mercedes-Benz\n",
      "Модель: 300E\n",
      "Тип: Midsize\n",
      "Номер строки с наибольшей ценой: 58\n",
      "Номер столбца с наибольшей ценой: 4\n"
     ]
    }
   ],
   "source": [
    "import pandas as pd\n",
    "\n",
    "url = \"https://raw.githubusercontent.com/selva86/datasets/master/Cars93_miss.csv\"\n",
    "df = pd.read_csv(url)\n",
    "\n",
    "max_price_row = df[df['Price'] == df['Price'].max()]\n",
    "\n",
    "manufacturer = max_price_row['Manufacturer'].values[0]\n",
    "model = max_price_row['Model'].values[0]\n",
    "type_car = max_price_row['Type'].values[0]\n",
    "\n",
    "max_price_index = df['Price'].idxmax()  \n",
    "max_price_column = df.columns.get_loc('Price')  \n",
    "\n",
    "print(f\"Производитель: {manufacturer}\")\n",
    "print(f\"Модель: {model}\")\n",
    "print(f\"Тип: {type_car}\")\n",
    "print(f\"Номер строки с наибольшей ценой: {max_price_index}\")\n",
    "print(f\"Номер столбца с наибольшей ценой: {max_price_column}\")"
   ]
  },
  {
   "cell_type": "markdown",
   "id": "3d5ff00c-5f01-41f9-8f68-cc476dbd6397",
   "metadata": {},
   "source": [
    "### Task 38"
   ]
  },
  {
   "cell_type": "code",
   "execution_count": 18,
   "id": "15f5ee46-6181-4f80-a39e-80c05ae1ddaa",
   "metadata": {},
   "outputs": [
    {
     "name": "stdout",
     "output_type": "stream",
     "text": [
      "Index(['Manufacturer', 'Model', 'CarType', 'Min_Price', 'Price', 'Max_Price',\n",
      "       'MPG_city', 'MPG_highway', 'AirBags', 'DriveTrain', 'Cylinders',\n",
      "       'EngineSize', 'Horsepower', 'RPM', 'Rev_per_mile', 'Man_trans_avail',\n",
      "       'Fuel_tank_capacity', 'Passengers', 'Length', 'Wheelbase', 'Width',\n",
      "       'Turn_circle', 'Rear_seat_room', 'Luggage_room', 'Weight', 'Origin',\n",
      "       'Make'],\n",
      "      dtype='object')\n"
     ]
    }
   ],
   "source": [
    "import pandas as pd\n",
    "\n",
    "url = \"https://raw.githubusercontent.com/selva86/datasets/master/Cars93_miss.csv\"\n",
    "df = pd.read_csv(url)\n",
    "\n",
    "df.rename(columns={'Type': 'CarType'}, inplace=True)\n",
    "\n",
    "df.columns = df.columns.str.replace('.', '_')\n",
    "\n",
    "print(df.columns)"
   ]
  },
  {
   "cell_type": "markdown",
   "id": "b70a9c20-5aa1-4e48-aaa4-d58e36b233c3",
   "metadata": {},
   "source": [
    "### Task 39"
   ]
  },
  {
   "cell_type": "code",
   "execution_count": 19,
   "id": "bd0642cc-226c-4e4f-9526-4d14f4768b72",
   "metadata": {},
   "outputs": [
    {
     "name": "stdout",
     "output_type": "stream",
     "text": [
      "Manufacturer           4\n",
      "Model                  1\n",
      "Type                   3\n",
      "Min.Price              7\n",
      "Price                  2\n",
      "Max.Price              5\n",
      "MPG.city               9\n",
      "MPG.highway            2\n",
      "AirBags               38\n",
      "DriveTrain             7\n",
      "Cylinders              5\n",
      "EngineSize             2\n",
      "Horsepower             7\n",
      "RPM                    3\n",
      "Rev.per.mile           6\n",
      "Man.trans.avail        5\n",
      "Fuel.tank.capacity     8\n",
      "Passengers             2\n",
      "Length                 4\n",
      "Wheelbase              1\n",
      "Width                  6\n",
      "Turn.circle            5\n",
      "Rear.seat.room         4\n",
      "Luggage.room          19\n",
      "Weight                 7\n",
      "Origin                 5\n",
      "Make                   3\n",
      "dtype: int64\n"
     ]
    }
   ],
   "source": [
    "import pandas as pd\n",
    "\n",
    "url = \"https://raw.githubusercontent.com/selva86/datasets/master/Cars93_miss.csv\"\n",
    "df = pd.read_csv(url)\n",
    "\n",
    "missing_values = df.isnull().sum()\n",
    "\n",
    "print(missing_values)"
   ]
  },
  {
   "cell_type": "markdown",
   "id": "06ed5be0-cdcc-4080-a580-6406cab59b8c",
   "metadata": {},
   "source": [
    "### Task 40"
   ]
  },
  {
   "cell_type": "code",
   "execution_count": 20,
   "id": "85c01a1c-a3f4-4a43-b07f-6d317cdf5d66",
   "metadata": {},
   "outputs": [
    {
     "name": "stdout",
     "output_type": "stream",
     "text": [
      "Количество пропущенных значений в каждом столбце:\n",
      " Manufacturer           4\n",
      "Model                  1\n",
      "Type                   3\n",
      "Min.Price              7\n",
      "Price                  2\n",
      "Max.Price              5\n",
      "MPG.city               9\n",
      "MPG.highway            2\n",
      "AirBags               38\n",
      "DriveTrain             7\n",
      "Cylinders              5\n",
      "EngineSize             2\n",
      "Horsepower             7\n",
      "RPM                    3\n",
      "Rev.per.mile           6\n",
      "Man.trans.avail        5\n",
      "Fuel.tank.capacity     8\n",
      "Passengers             2\n",
      "Length                 4\n",
      "Wheelbase              1\n",
      "Width                  6\n",
      "Turn.circle            5\n",
      "Rear.seat.room         4\n",
      "Luggage.room          19\n",
      "Weight                 7\n",
      "Origin                 5\n",
      "Make                   3\n",
      "dtype: int64\n",
      "\n",
      "Столбец с наибольшим количеством пропусков: AirBags (38 пропущенных значений)\n"
     ]
    }
   ],
   "source": [
    "import pandas as pd\n",
    "\n",
    "url = \"https://raw.githubusercontent.com/selva86/datasets/master/Cars93_miss.csv\"\n",
    "df = pd.read_csv(url)\n",
    "\n",
    "missing_values = df.isnull().sum()\n",
    "\n",
    "max_missing_column = missing_values.idxmax()\n",
    "max_missing_count = missing_values.max()\n",
    "\n",
    "print(\"Количество пропущенных значений в каждом столбце:\\n\", missing_values)\n",
    "print(f\"\\nСтолбец с наибольшим количеством пропусков: {max_missing_column} ({max_missing_count} пропущенных значений)\")"
   ]
  },
  {
   "cell_type": "markdown",
   "id": "f9df6051-30f8-4dfa-896b-13e4cb0375fc",
   "metadata": {},
   "source": [
    "### Task 41"
   ]
  },
  {
   "cell_type": "code",
   "execution_count": 25,
   "id": "7676daa7-0e21-41bd-a4fe-47101b577d47",
   "metadata": {},
   "outputs": [
    {
     "name": "stdout",
     "output_type": "stream",
     "text": [
      "    Min.Price  Max.Price\n",
      "0   12.900000  18.800000\n",
      "1   29.200000  38.700000\n",
      "2   25.900000  32.300000\n",
      "3   17.118605  44.600000\n",
      "4   17.118605  21.459091\n",
      "..        ...        ...\n",
      "88  16.600000  22.700000\n",
      "89  17.600000  22.400000\n",
      "90  22.900000  23.700000\n",
      "91  21.800000  23.500000\n",
      "92  24.800000  28.500000\n",
      "\n",
      "[93 rows x 2 columns]\n"
     ]
    }
   ],
   "source": [
    "import pandas as pd\n",
    "\n",
    "url = \"https://raw.githubusercontent.com/selva86/datasets/master/Cars93_miss.csv\"\n",
    "df = pd.read_csv(url)\n",
    "\n",
    "df['Min.Price'] = df['Min.Price'].fillna(df['Min.Price'].mean())\n",
    "df['Max.Price'] = df['Max.Price'].fillna(df['Max.Price'].mean())\n",
    "\n",
    "print(df[['Min.Price', 'Max.Price']])"
   ]
  },
  {
   "cell_type": "markdown",
   "id": "8aed4a50-b466-49cc-8366-44b20dc22225",
   "metadata": {},
   "source": [
    "### Task 42"
   ]
  },
  {
   "cell_type": "code",
   "execution_count": 12,
   "id": "3f0aa7a8-0bd5-4f1a-b4a1-027063bc53ef",
   "metadata": {},
   "outputs": [
    {
     "name": "stdout",
     "output_type": "stream",
     "text": [
      "Min.Price    7\n",
      "Max.Price    5\n",
      "dtype: int64\n"
     ]
    }
   ],
   "source": [
    "import pandas as pd\n",
    "\n",
    "df = pd.read_csv('https://raw.githubusercontent.com/selva86/datasets/master/Cars93_miss.csv')\n",
    "\n",
    "print(df[['Min.Price', 'Max.Price']].isna().sum()) # количество пропущенных значений"
   ]
  },
  {
   "cell_type": "code",
   "execution_count": 11,
   "id": "58c59131-220d-4a3a-9df9-5645f1e5805d",
   "metadata": {},
   "outputs": [
    {
     "name": "stdout",
     "output_type": "stream",
     "text": [
      "Min.Price    0\n",
      "Max.Price    0\n",
      "dtype: int64\n"
     ]
    }
   ],
   "source": [
    "mean_min = df['Min.Price'].mean(skipna=True)\n",
    "median_max = df['Max.Price'].median(skipna=True)\n",
    "\n",
    "def fill_missing(value, fill_value):\n",
    "    return value if pd.notna(value) else fill_value\n",
    "\n",
    "df['Min.Price'] = df['Min.Price'].apply(lambda x: fill_missing(x, mean_min))\n",
    "df['Max.Price'] = df['Max.Price'].apply(lambda x: fill_missing(x, median_max))\n",
    "\n",
    "print(df[['Min.Price', 'Max.Price']].isna().sum())"
   ]
  },
  {
   "cell_type": "markdown",
   "id": "09291e7c-6b8e-47ba-8329-59222c281995",
   "metadata": {},
   "source": [
    "### Task 43"
   ]
  },
  {
   "cell_type": "code",
   "execution_count": 28,
   "id": "d88378e1-83cf-46ad-8b53-4bd9a8bab543",
   "metadata": {},
   "outputs": [],
   "source": [
    "import pandas as pd\n",
    "import numpy as np\n",
    "\n",
    "df = pd.DataFrame(np.arange(20).reshape(-1, 5), columns=list('abcde'))"
   ]
  },
  {
   "cell_type": "code",
   "execution_count": 29,
   "id": "b532904b-ef17-4706-aa88-ee62c92cb73b",
   "metadata": {},
   "outputs": [
    {
     "name": "stdout",
     "output_type": "stream",
     "text": [
      "    a\n",
      "0   0\n",
      "1   5\n",
      "2  10\n",
      "3  15\n"
     ]
    }
   ],
   "source": [
    "first_column_df = df[['a']]\n",
    "\n",
    "print(first_column_df)"
   ]
  },
  {
   "cell_type": "markdown",
   "id": "9bd8b8fb-a004-4183-98fc-c2b28f7229da",
   "metadata": {},
   "source": [
    "### Task 44"
   ]
  },
  {
   "cell_type": "code",
   "execution_count": 32,
   "id": "c6d0a2aa-fd1d-48c6-bc1b-67eb3b6ed43d",
   "metadata": {},
   "outputs": [
    {
     "name": "stdout",
     "output_type": "stream",
     "text": [
      "    a   b   c   d   e\n",
      "0   0   1   2   3   4\n",
      "1   5   6   7   8   9\n",
      "2  10  11  12  13  14\n",
      "3  15  16  17  18  19\n"
     ]
    }
   ],
   "source": [
    "import pandas as pd\n",
    "import numpy as np\n",
    "\n",
    "df = pd.DataFrame(np.arange(20).reshape(-1, 5), columns=list('abcde'))\n",
    "print(df)"
   ]
  },
  {
   "cell_type": "code",
   "execution_count": 33,
   "id": "dd6312c1-33af-4a0c-8598-9e96b4e79334",
   "metadata": {},
   "outputs": [
    {
     "name": "stdout",
     "output_type": "stream",
     "text": [
      "    e   d   c   b   a\n",
      "0   4   1   0   3   2\n",
      "1   9   6   5   8   7\n",
      "2  14  11  10  13  12\n",
      "3  19  16  15  18  17\n"
     ]
    }
   ],
   "source": [
    "# 1. \n",
    "df[['a', 'c']] = df[['c', 'a']]\n",
    "\n",
    "# 2. \n",
    "def swap_columns(df, col1, col2):\n",
    "    df[[col1, col2]] = df[[col2, col1]]\n",
    "    return df\n",
    "\n",
    "# swap b, d\n",
    "df = swap_columns(df, 'b', 'd')\n",
    "\n",
    "# 3.\n",
    "df = df[sorted(df.columns, reverse=True)]\n",
    "\n",
    "print(df)"
   ]
  },
  {
   "cell_type": "markdown",
   "id": "879b0bfd-29b9-4968-889f-f4d2c29ec8f8",
   "metadata": {},
   "source": [
    "### Task 45"
   ]
  },
  {
   "cell_type": "code",
   "execution_count": 1,
   "id": "370815c5-fb1d-402d-aac3-42e5fa41ce72",
   "metadata": {},
   "outputs": [],
   "source": [
    "import pandas as pd\n",
    "\n",
    "df = pd.read_csv('https://raw.githubusercontent.com/selva86/datasets/master/Cars93_miss.csv')"
   ]
  },
  {
   "cell_type": "code",
   "execution_count": 2,
   "id": "3b641b48-1bc5-4cbd-b9e2-9500c99e18e4",
   "metadata": {},
   "outputs": [
    {
     "name": "stdout",
     "output_type": "stream",
     "text": [
      "   Manufacturer    Model     Type  Min.Price  Price  ...  Rear.seat.room  \\\n",
      "0         Acura  Integra    Small       12.9   15.9  ...            26.5   \n",
      "1           NaN   Legend  Midsize       29.2   33.9  ...            30.0   \n",
      "2          Audi       90  Compact       25.9   29.1  ...            28.0   \n",
      "3          Audi      100  Midsize        NaN   37.7  ...            31.0   \n",
      "4           BMW     535i  Midsize        NaN   30.0  ...            27.0   \n",
      "..          ...      ...      ...        ...    ...  ...             ...   \n",
      "88   Volkswagen  Eurovan      Van       16.6   19.7  ...            34.0   \n",
      "89   Volkswagen   Passat  Compact       17.6   20.0  ...            31.5   \n",
      "90   Volkswagen  Corrado   Sporty       22.9   23.3  ...            26.0   \n",
      "91        Volvo      240  Compact       21.8   22.7  ...            29.5   \n",
      "92          NaN      850  Midsize       24.8   26.7  ...            30.0   \n",
      "\n",
      "    Luggage.room  Weight   Origin                Make  \n",
      "0            NaN  2705.0  non-USA       Acura Integra  \n",
      "1           15.0  3560.0  non-USA        Acura Legend  \n",
      "2           14.0  3375.0  non-USA             Audi 90  \n",
      "3           17.0  3405.0  non-USA            Audi 100  \n",
      "4           13.0  3640.0  non-USA            BMW 535i  \n",
      "..           ...     ...      ...                 ...  \n",
      "88           NaN  3960.0      NaN  Volkswagen Eurovan  \n",
      "89          14.0  2985.0  non-USA   Volkswagen Passat  \n",
      "90          15.0  2810.0  non-USA  Volkswagen Corrado  \n",
      "91          14.0  2985.0  non-USA           Volvo 240  \n",
      "92          15.0  3245.0  non-USA           Volvo 850  \n",
      "\n",
      "[93 rows x 27 columns]\n"
     ]
    }
   ],
   "source": [
    "pd.set_option('display.max_rows', 10)  \n",
    "pd.set_option('display.max_columns', 10)\n",
    "\n",
    "print(df)"
   ]
  },
  {
   "cell_type": "markdown",
   "id": "8b65e34c-27c0-48d6-bc00-00715033210c",
   "metadata": {},
   "source": [
    "### Task 46"
   ]
  },
  {
   "cell_type": "code",
   "execution_count": 3,
   "id": "61e00d1f-7875-419f-b4ac-5dad55b54e55",
   "metadata": {},
   "outputs": [],
   "source": [
    "import pandas as pd\n",
    "import numpy as np\n",
    "\n",
    "df = pd.DataFrame(np.random.random(4)**10, columns=['random'])"
   ]
  },
  {
   "cell_type": "code",
   "execution_count": 4,
   "id": "a8d38429-92e8-4ab4-8bee-8805604a5c7d",
   "metadata": {},
   "outputs": [
    {
     "name": "stdout",
     "output_type": "stream",
     "text": [
      "   random\n",
      "0  0.0000\n",
      "1  0.0062\n",
      "2  0.7244\n",
      "3  0.0080\n"
     ]
    }
   ],
   "source": [
    "pd.set_option('display.float_format', '{:.4f}'.format)\n",
    "\n",
    "df = df.round(4)\n",
    "\n",
    "print(df)"
   ]
  },
  {
   "cell_type": "markdown",
   "id": "a4be3a7a-875e-40a8-9fa4-2cb645a26216",
   "metadata": {},
   "source": [
    "### Task 47"
   ]
  },
  {
   "cell_type": "code",
   "execution_count": 5,
   "id": "d075f924-b3d7-4365-bb48-08c38c4e6435",
   "metadata": {},
   "outputs": [],
   "source": [
    "import pandas as pd\n",
    "import numpy as np\n",
    "\n",
    "df = pd.DataFrame(np.random.random(4), columns=['random'])"
   ]
  },
  {
   "cell_type": "code",
   "execution_count": 6,
   "id": "b83f9bdf-9b9a-4a32-a827-c9326e097ef8",
   "metadata": {},
   "outputs": [
    {
     "name": "stdout",
     "output_type": "stream",
     "text": [
      "   random\n",
      "0  60.68%\n",
      "1  70.11%\n",
      "2  77.45%\n",
      "3   3.30%\n"
     ]
    }
   ],
   "source": [
    "df['random'] = df['random'].apply(lambda x: f'{x*100:.2f}%')\n",
    "\n",
    "print(df)"
   ]
  },
  {
   "cell_type": "markdown",
   "id": "511aebfc-deaf-4c43-9d5a-9fd1a94d9c19",
   "metadata": {},
   "source": [
    "### Task 48"
   ]
  },
  {
   "cell_type": "code",
   "execution_count": 7,
   "id": "1e133a21-01ea-4452-adec-7326d58de219",
   "metadata": {},
   "outputs": [],
   "source": [
    "import pandas as pd\n",
    "\n",
    "df = pd.read_csv('https://raw.githubusercontent.com/selva86/datasets/master/Cars93_miss.csv')"
   ]
  },
  {
   "cell_type": "code",
   "execution_count": 8,
   "id": "c48c321f-8da6-4f01-9356-c418f12d6e96",
   "metadata": {},
   "outputs": [
    {
     "name": "stdout",
     "output_type": "stream",
     "text": [
      "   Manufacturer    Model     Type\n",
      "0         Acura  Integra    Small\n",
      "20     Chrysler  LeBaron  Compact\n",
      "40        Honda  Prelude   Sporty\n",
      "60      Mercury   Cougar  Midsize\n",
      "80       Subaru   Loyale    Small\n"
     ]
    }
   ],
   "source": [
    "filtered_df = df.iloc[::20][['Manufacturer', 'Model', 'Type']]\n",
    "\n",
    "print(filtered_df)"
   ]
  },
  {
   "cell_type": "markdown",
   "id": "354b8913-f916-4c01-adfb-eb2c440e08f4",
   "metadata": {},
   "source": [
    "### Task 49"
   ]
  },
  {
   "cell_type": "code",
   "execution_count": 9,
   "id": "89ccf665-4ed7-4322-bd84-13e73c913ec6",
   "metadata": {},
   "outputs": [],
   "source": [
    "import pandas as pd\n",
    "\n",
    "df = pd.read_csv('https://raw.githubusercontent.com/selva86/datasets/master/Cars93_miss.csv', usecols=[0, 1, 2, 3, 5])"
   ]
  },
  {
   "cell_type": "code",
   "execution_count": 10,
   "id": "873b52aa-e6da-4e90-ad28-77c785900d3b",
   "metadata": {},
   "outputs": [
    {
     "name": "stdout",
     "output_type": "stream",
     "text": [
      "                          Manufacturer    Model     Type  Min.Price  Max.Price\n",
      "Index                                                                         \n",
      "Acura_Integra_Small              Acura  Integra    Small    12.9000    18.8000\n",
      "missing_Legend_Midsize         missing   Legend  Midsize    29.2000    38.7000\n",
      "Audi_90_Compact                   Audi       90  Compact    25.9000    32.3000\n",
      "Audi_100_Midsize                  Audi      100  Midsize        NaN    44.6000\n",
      "BMW_535i_Midsize                   BMW     535i  Midsize        NaN        NaN\n",
      "...                                ...      ...      ...        ...        ...\n",
      "Volkswagen_Eurovan_Van      Volkswagen  Eurovan      Van    16.6000    22.7000\n",
      "Volkswagen_Passat_Compact   Volkswagen   Passat  Compact    17.6000    22.4000\n",
      "Volkswagen_Corrado_Sporty   Volkswagen  Corrado   Sporty    22.9000    23.7000\n",
      "Volvo_240_Compact                Volvo      240  Compact    21.8000    23.5000\n",
      "missing_850_Midsize            missing      850  Midsize    24.8000    28.5000\n",
      "\n",
      "[93 rows x 5 columns]\n",
      "Индекс является первичным ключом: True\n"
     ]
    }
   ],
   "source": [
    "df[['Manufacturer', 'Model', 'Type']] = df[['Manufacturer', 'Model', 'Type']].fillna('missing')\n",
    "\n",
    "df['Index'] = df['Manufacturer'] + '_' + df['Model'] + '_' + df['Type']\n",
    "df.set_index('Index', inplace=True)\n",
    "\n",
    "is_unique = df.index.is_unique\n",
    "\n",
    "print(df)\n",
    "print(f\"Индекс является первичным ключом: {is_unique}\")"
   ]
  },
  {
   "cell_type": "markdown",
   "id": "08e3f0cf-0454-480f-9023-f00d658e1178",
   "metadata": {},
   "source": [
    "### Task 50"
   ]
  },
  {
   "cell_type": "code",
   "execution_count": 11,
   "id": "191f6947-ab87-4cce-8961-8c2172530c5e",
   "metadata": {},
   "outputs": [],
   "source": [
    "import pandas as pd\n",
    "import numpy as np\n",
    "\n",
    "df = pd.DataFrame(np.random.randint(1, 30, 30).reshape(10, -1), columns=list('abc'))"
   ]
  },
  {
   "cell_type": "code",
   "execution_count": 12,
   "id": "3e36809b-6c28-482e-9e5a-e393bc1f8ba5",
   "metadata": {},
   "outputs": [
    {
     "name": "stdout",
     "output_type": "stream",
     "text": [
      "Положение строки с 5-м наибольшим значением столбца 'a': 8\n"
     ]
    }
   ],
   "source": [
    "index_of_5th_largest = df['a'].nlargest(5).index[-1]\n",
    "\n",
    "print(f\"Положение строки с 5-м наибольшим значением столбца 'a': {index_of_5th_largest}\")"
   ]
  },
  {
   "cell_type": "markdown",
   "id": "4951f7b8-7719-42c6-8ed8-fb3337f7d194",
   "metadata": {},
   "source": [
    "### Task 51"
   ]
  },
  {
   "cell_type": "code",
   "execution_count": 13,
   "id": "bac3f322-fd14-45f0-b600-9392e50363c4",
   "metadata": {},
   "outputs": [],
   "source": [
    "import pandas as pd\n",
    "import numpy as np\n",
    "\n",
    "ser = pd.Series(np.random.randint(1, 100, 15))"
   ]
  },
  {
   "cell_type": "code",
   "execution_count": 14,
   "id": "c55872bc-2dea-477a-92e1-2fbb9ae400be",
   "metadata": {},
   "outputs": [
    {
     "name": "stdout",
     "output_type": "stream",
     "text": [
      "Положение 2-го наибольшего значения, превышающего среднее: 11\n"
     ]
    }
   ],
   "source": [
    "mean_value = ser.mean()\n",
    "filtered_ser = ser[ser > mean_value]\n",
    "second_largest_index = filtered_ser.nlargest(2).index[-1]\n",
    "\n",
    "print(f\"Положение 2-го наибольшего значения, превышающего среднее: {second_largest_index}\")"
   ]
  },
  {
   "cell_type": "markdown",
   "id": "9edf28ad-e9a9-4812-ab90-57096bf56e47",
   "metadata": {},
   "source": [
    "### Task 52"
   ]
  },
  {
   "cell_type": "code",
   "execution_count": 15,
   "id": "6b2b84b1-90f4-48a8-a986-1c1679840901",
   "metadata": {},
   "outputs": [],
   "source": [
    "import pandas as pd\n",
    "import numpy as np\n",
    "\n",
    "df = pd.DataFrame(np.random.randint(10, 40, 60).reshape(-1, 4))"
   ]
  },
  {
   "cell_type": "code",
   "execution_count": 16,
   "id": "d79e0965-fcb4-4d1a-a2bd-5ca311a9337a",
   "metadata": {},
   "outputs": [
    {
     "name": "stdout",
     "output_type": "stream",
     "text": [
      "     0   1   2   3\n",
      "12  34  26  17  37\n",
      "13  16  35  21  36\n"
     ]
    }
   ],
   "source": [
    "row_sums = df.sum(axis=1)\n",
    "filtered_df = df[row_sums > 100]\n",
    "last_two_rows = filtered_df.tail(2)\n",
    "\n",
    "print(last_two_rows)"
   ]
  },
  {
   "cell_type": "markdown",
   "id": "f605b214-d4f3-48f4-b298-c8d9271db7c3",
   "metadata": {},
   "source": [
    "### Task 53"
   ]
  },
  {
   "cell_type": "code",
   "execution_count": 17,
   "id": "62b82fe9-bfb9-4e04-ad20-3d8ae2853d51",
   "metadata": {},
   "outputs": [],
   "source": [
    "import pandas as pd\n",
    "import numpy as np\n",
    "\n",
    "ser = pd.Series(np.logspace(-2, 2, 30))"
   ]
  },
  {
   "cell_type": "code",
   "execution_count": 18,
   "id": "ac30c3e0-2b5e-4f12-b45f-d742c15cafc9",
   "metadata": {},
   "outputs": [
    {
     "name": "stdout",
     "output_type": "stream",
     "text": [
      "0     0.0160\n",
      "1     0.0160\n",
      "2     0.0189\n",
      "3     0.0259\n",
      "4     0.0356\n",
      "       ...  \n",
      "25   28.0722\n",
      "26   38.5662\n",
      "27   52.9832\n",
      "28   63.8767\n",
      "29   63.8767\n",
      "Length: 30, dtype: float64\n"
     ]
    }
   ],
   "source": [
    "p5 = np.percentile(ser, 5)\n",
    "p95 = np.percentile(ser, 95)\n",
    "\n",
    "ser = ser.apply(lambda x: p5 if x < p5 else (p95 if x > p95 else x))\n",
    "\n",
    "print(ser)"
   ]
  },
  {
   "cell_type": "markdown",
   "id": "1c1cc3a9-4244-4ffb-929f-49b2b71af778",
   "metadata": {},
   "source": [
    "### Task 54"
   ]
  },
  {
   "cell_type": "code",
   "execution_count": 19,
   "id": "f6c0f6ee-c8e4-4315-82d1-11dede7575b2",
   "metadata": {},
   "outputs": [],
   "source": [
    "import pandas as pd\n",
    "import numpy as np\n",
    "\n",
    "df = pd.DataFrame(np.random.randint(-20, 50, 100).reshape(10, -1))"
   ]
  },
  {
   "cell_type": "code",
   "execution_count": 20,
   "id": "0b58c4d7-df00-4827-9a3e-d1f57c59d0d9",
   "metadata": {},
   "outputs": [
    {
     "name": "stdout",
     "output_type": "stream",
     "text": [
      "        0       1       2       3       4       5       6       7\n",
      "0 26.0000 15.0000 45.0000 47.0000 34.0000  9.0000 39.0000 38.0000\n",
      "1 29.0000  9.0000 39.0000 35.0000 21.0000 13.0000 27.0000 47.0000\n",
      "2 11.0000 11.0000 13.0000  3.0000 23.0000 34.0000 34.0000 23.0000\n",
      "3 10.0000 16.0000 35.0000 23.0000 46.0000 10.0000 33.0000 40.0000\n",
      "4 22.0000  8.0000 27.0000 26.0000 40.0000 17.0000 13.0000 10.0000\n",
      "5  4.0000 46.0000 20.0000 31.0000 19.0000 36.0000 10.0000 32.0000\n",
      "6  7.0000 44.0000  6.0000 30.0000 22.0000 41.0000 15.0000 27.0000\n",
      "7 31.0000 48.0000 10.0000 42.0000 33.0000 49.0000  6.0000  8.0000\n"
     ]
    }
   ],
   "source": [
    "df[df < 0] = np.nan\n",
    "positive_values = df.values[~np.isnan(df.values)]\n",
    "size = int(np.floor(np.sqrt(len(positive_values))))\n",
    "square_df = pd.DataFrame(positive_values[:size**2].reshape(size, size))\n",
    "\n",
    "print(square_df)"
   ]
  },
  {
   "cell_type": "markdown",
   "id": "3b4ab408-16d9-4130-abfa-78bcc5a4182a",
   "metadata": {},
   "source": [
    "### Task 55"
   ]
  },
  {
   "cell_type": "code",
   "execution_count": 21,
   "id": "6af00ad9-9f1f-4bc2-8857-7e21a3346187",
   "metadata": {},
   "outputs": [],
   "source": [
    "import pandas as pd\n",
    "import numpy as np\n",
    "\n",
    "df = pd.DataFrame(np.arange(25).reshape(5, -1))"
   ]
  },
  {
   "cell_type": "code",
   "execution_count": 23,
   "id": "6f070ead-0f9c-40e7-89ce-bc81c2720181",
   "metadata": {},
   "outputs": [
    {
     "name": "stdout",
     "output_type": "stream",
     "text": [
      "    0   1   2   3   4\n",
      "0   0   1   2   3   4\n",
      "1   5   6   7   8   9\n",
      "2  10  11  12  13  14\n",
      "3  15  16  17  18  19\n",
      "4  20  21  22  23  24\n"
     ]
    }
   ],
   "source": [
    "df.iloc[[0, 1]] = df.iloc[[1, 0]].values\n",
    "\n",
    "print(df)"
   ]
  },
  {
   "cell_type": "markdown",
   "id": "5bb9df98-3e4b-4223-9b67-c9a6e54c266b",
   "metadata": {},
   "source": [
    "### Task 56"
   ]
  },
  {
   "cell_type": "code",
   "execution_count": 24,
   "id": "1b477e75-dd9d-4066-b9de-711c6a4fadfc",
   "metadata": {},
   "outputs": [],
   "source": [
    "import pandas as pd\n",
    "import numpy as np\n",
    "\n",
    "df = pd.DataFrame(np.arange(25).reshape(5, -1))"
   ]
  },
  {
   "cell_type": "code",
   "execution_count": 25,
   "id": "0ad85811-0077-4c56-ba28-6517e055860d",
   "metadata": {},
   "outputs": [
    {
     "name": "stdout",
     "output_type": "stream",
     "text": [
      "    0   1   2   3   4\n",
      "0  20  21  22  23  24\n",
      "1  15  16  17  18  19\n",
      "2  10  11  12  13  14\n",
      "3   5   6   7   8   9\n",
      "4   0   1   2   3   4\n"
     ]
    }
   ],
   "source": [
    "df = df.iloc[::-1].reset_index(drop=True)\n",
    "\n",
    "print(df)"
   ]
  },
  {
   "cell_type": "markdown",
   "id": "ed7c8528-9dbc-4e86-8a82-8292395d1565",
   "metadata": {},
   "source": [
    "### Task 57"
   ]
  },
  {
   "cell_type": "code",
   "execution_count": 26,
   "id": "796abf23-cc41-42bb-8a97-e63cdb5969ef",
   "metadata": {},
   "outputs": [],
   "source": [
    "import pandas as pd\n",
    "import numpy as np\n",
    "\n",
    "df = pd.DataFrame(np.arange(25).reshape(5, -1), columns=list('abcde'))"
   ]
  },
  {
   "cell_type": "code",
   "execution_count": 27,
   "id": "d93067fa-c55c-4aa6-ab77-db0dfd2aeaf7",
   "metadata": {},
   "outputs": [
    {
     "name": "stdout",
     "output_type": "stream",
     "text": [
      "   0  1  2  3  4   a   b   c   d   e\n",
      "0  0  0  0  0  0   0   1   2   3   4\n",
      "1  0  0  1  0  1   5   6   7   8   9\n",
      "2  0  1  0  1  0  10  11  12  13  14\n",
      "3  0  1  1  1  1  15  16  17  18  19\n",
      "4  1  0  1  0  0  20  21  22  23  24\n"
     ]
    }
   ],
   "source": [
    "binary_cols = df['a'].apply(lambda x: pd.Series([int(i) for i in f'{x:05b}']))\n",
    "df = pd.concat([binary_cols, df], axis=1)\n",
    "df.columns = [str(i) for i in range(5)] + list(df.columns[5:])\n",
    "\n",
    "print(df)"
   ]
  },
  {
   "cell_type": "markdown",
   "id": "eca8cfa3-c016-4048-8ff1-030a8eaa31ec",
   "metadata": {},
   "source": [
    "### Task 58"
   ]
  },
  {
   "cell_type": "code",
   "execution_count": 34,
   "id": "4df6e6ba-04f7-492e-ab86-5fd486022240",
   "metadata": {},
   "outputs": [],
   "source": [
    "import pandas as pd\n",
    "import numpy as np\n",
    "\n",
    "df = pd.DataFrame(np.random.randint(1, 100, 40).reshape(10, -1))"
   ]
  },
  {
   "cell_type": "code",
   "execution_count": 18,
   "id": "bcf4d74c-eddf-4745-8339-b469681e51b5",
   "metadata": {},
   "outputs": [
    {
     "name": "stdout",
     "output_type": "stream",
     "text": [
      "Столбец с наибольшим количеством строчных максимумов: 3\n"
     ]
    }
   ],
   "source": [
    "max_counts = df.eq(df.max(axis=1), axis=0).sum()\n",
    "max_col = max_counts.idxmax()\n",
    "\n",
    "print(\"Столбец с наибольшим количеством строчных максимумов:\", max_col)"
   ]
  },
  {
   "cell_type": "markdown",
   "id": "53120c14-3625-42a6-bb65-854ba64b09cd",
   "metadata": {},
   "source": [
    "### Task 59"
   ]
  },
  {
   "cell_type": "code",
   "execution_count": 38,
   "id": "529a9dbe-9f8d-4f89-95a2-5b22c74c20f9",
   "metadata": {},
   "outputs": [],
   "source": [
    "import pandas as pd\n",
    "import numpy as np\n",
    "from scipy.spatial.distance import cdist\n",
    "\n",
    "df = pd.DataFrame(np.random.randint(1, 100, 40).reshape(10, -1), columns=list('pqrs'), index=list('abcdefghij'))"
   ]
  },
  {
   "cell_type": "code",
   "execution_count": 39,
   "id": "4b900b83-5b25-4223-995e-43de917e4fe9",
   "metadata": {},
   "outputs": [
    {
     "name": "stdout",
     "output_type": "stream",
     "text": [
      "    p   q   r   s nearest_row    dist\n",
      "a   3  65  33  16           i 53.5537\n",
      "b  35   7  95  72           f 35.1852\n",
      "c  52  67  98  42           h 30.6594\n",
      "d   6  24  87  63           b 35.7071\n",
      "e  82  34  15  99           f 78.7083\n",
      "f  42  37  80  80           b 35.1852\n",
      "g  77  52  73  20           j 36.9053\n",
      "h  77  76  95  57           c 30.6594\n",
      "i  12  18  56  23           d 51.3128\n",
      "j  93  81  57  23           g 36.9053\n"
     ]
    }
   ],
   "source": [
    "distances = cdist(df, df, metric='euclidean')\n",
    "np.fill_diagonal(distances, np.inf)\n",
    "nearest_indices = np.argmin(distances, axis=1)\n",
    "df['nearest_row'] = df.index[nearest_indices]\n",
    "df['dist'] = distances[np.arange(distances.shape[0]), nearest_indices]\n",
    "\n",
    "print(df)"
   ]
  },
  {
   "cell_type": "markdown",
   "id": "9b5c2b6a-92e7-4763-b210-e75d6b3f7ded",
   "metadata": {},
   "source": [
    "### Task 60"
   ]
  },
  {
   "cell_type": "code",
   "execution_count": 40,
   "id": "36fff440-7bdc-41ee-a11c-6d262aefd1be",
   "metadata": {},
   "outputs": [],
   "source": [
    "import pandas as pd\n",
    "import numpy as np\n",
    "\n",
    "df = pd.DataFrame(np.random.randint(1, 100, 80).reshape(8, -1), columns=list('pqrstuvwxy'), index=list('abcdefgh'))"
   ]
  },
  {
   "cell_type": "code",
   "execution_count": 41,
   "id": "ca408960-0331-4b4d-b3ce-6f197fd82bdf",
   "metadata": {},
   "outputs": [
    {
     "name": "stdout",
     "output_type": "stream",
     "text": [
      "p   0.7409\n",
      "q   0.7370\n",
      "r   0.7409\n",
      "s   0.6641\n",
      "t   0.7370\n",
      "u   0.5390\n",
      "v   0.6799\n",
      "w   0.6799\n",
      "x   0.6641\n",
      "y   0.5085\n",
      "dtype: float64\n"
     ]
    }
   ],
   "source": [
    "correlation_matrix = df.corr()\n",
    "max_correlation = correlation_matrix.apply(lambda col: col.drop(col.name).abs().max(), axis=0)\n",
    "\n",
    "print(max_correlation)"
   ]
  },
  {
   "cell_type": "markdown",
   "id": "c681a7e2-0681-4b7b-8017-e1260c794c66",
   "metadata": {},
   "source": [
    "### Task 61"
   ]
  },
  {
   "cell_type": "code",
   "execution_count": 42,
   "id": "722bf160-0b58-495d-8cc3-efe33e85bbc9",
   "metadata": {},
   "outputs": [],
   "source": [
    "import pandas as pd\n",
    "import numpy as np\n",
    "\n",
    "df = pd.DataFrame(np.random.randint(1, 100, 80).reshape(8, -1))"
   ]
  },
  {
   "cell_type": "code",
   "execution_count": 43,
   "id": "a4a76a6d-8c9b-4b77-9523-689dc8928b95",
   "metadata": {},
   "outputs": [
    {
     "name": "stdout",
     "output_type": "stream",
     "text": [
      "    0   1   2   3   4  ...   7   8   9  min  max\n",
      "0  54  36  61   4  58  ...  89  10  56    1   89\n",
      "1  38  85  12  15  77  ...  57  52  53   12   85\n",
      "2  68  56  57  19  65  ...  38  78  60    2   78\n",
      "3  90  99  27  89  82  ...  80  80  29   16   99\n",
      "4  14  78  78  67  30  ...  57  19  70   14   78\n",
      "5  31  56  20  71  35  ...  60  32  12    6   71\n",
      "6  25  78   2  68  58  ...  51  47  55    2   78\n",
      "7  11  57  31  18  93  ...  73  50   4    4   93\n",
      "\n",
      "[8 rows x 12 columns]\n"
     ]
    }
   ],
   "source": [
    "min_values = df.min(axis=1)\n",
    "max_values = df.max(axis=1)\n",
    "\n",
    "df['min'] = min_values\n",
    "df['max'] = max_values\n",
    "\n",
    "print(df)"
   ]
  },
  {
   "cell_type": "markdown",
   "id": "480ce7cd-fd5d-4a5a-b34b-6984daf7f74b",
   "metadata": {},
   "source": [
    "### Task 62"
   ]
  },
  {
   "cell_type": "code",
   "execution_count": 44,
   "id": "5b0126fb-a75c-4a2e-bdcb-bfe803228ea1",
   "metadata": {},
   "outputs": [],
   "source": [
    "import pandas as pd\n",
    "import numpy as np\n",
    "\n",
    "df = pd.DataFrame(np.random.randint(1, 100, 80).reshape(8, -1))"
   ]
  },
  {
   "cell_type": "code",
   "execution_count": 46,
   "id": "4e0dbdac-1f52-4894-b31b-48b3f02457e7",
   "metadata": {},
   "outputs": [
    {
     "name": "stdout",
     "output_type": "stream",
     "text": [
      "    0   1   2   3   4  ...   6   7   8   9  penultimate\n",
      "0  61  64  88  55  12  ...  38  68   7  67           68\n",
      "1  25  47  29  53  21  ...   4  10   3  23           48\n",
      "2  17  59  93  21  92  ...  89  37  18  46           92\n",
      "3  80  11  65  79  25  ...  26  24  91  94           91\n",
      "4  99  51  93  41  67  ...  24  11   1  20           93\n",
      "5  92  36   4  77   5  ...  71  96  85  16           92\n",
      "6  17  45  63  88  12  ...  14  58  20   6           63\n",
      "7  86  63  67  27  99  ...  39  52   9  51           86\n",
      "\n",
      "[8 rows x 11 columns]\n"
     ]
    }
   ],
   "source": [
    "df['penultimate'] = df.apply(lambda row: sorted(row, reverse=True)[1], axis=1)\n",
    "\n",
    "print(df)"
   ]
  },
  {
   "cell_type": "markdown",
   "id": "fb56a274-bf8d-48f7-b4ca-4d6a1c867776",
   "metadata": {},
   "source": [
    "### Task 63"
   ]
  },
  {
   "cell_type": "code",
   "execution_count": 47,
   "id": "7cee65c2-90c6-48ec-9666-f95c3ca59ce5",
   "metadata": {},
   "outputs": [],
   "source": [
    "import pandas as pd\n",
    "import numpy as np\n",
    "\n",
    "df = pd.DataFrame(np.random.randint(1, 100, 80).reshape(8, -1))"
   ]
  },
  {
   "cell_type": "code",
   "execution_count": 48,
   "id": "39de2734-fe76-467a-b05d-478dcc075fac",
   "metadata": {},
   "outputs": [
    {
     "name": "stdout",
     "output_type": "stream",
     "text": [
      "Нормализованные данные:\n",
      "        0       1       2       3       4       5       6       7       8  \\\n",
      "0  1.3871 -0.8636  0.8262 -1.0530  0.0548  0.6240 -0.9087 -0.6220 -0.8688   \n",
      "1 -0.5751 -1.1233  0.7446  1.1344  1.8812  1.1876  1.3280 -1.2058 -0.5792   \n",
      "2 -0.2706 -0.2922  0.0918  0.5294  0.0183  1.2682 -0.2986  0.1842 -0.4964   \n",
      "3  0.1015 -1.2272 -1.3769 -1.2857 -0.4931 -1.0937  0.3114  1.2961  0.2482   \n",
      "4  1.6577  1.0064 -0.4386 -0.3083  1.0045  0.4093  0.7180  1.2128  0.4964   \n",
      "5 -0.8119  1.0324  0.4590  1.2740 -1.0776 -0.6106  0.0572 -0.4552 -0.3310   \n",
      "6 -1.0149  0.3831 -1.4585  0.5294 -0.8950 -0.5301 -1.8237 -1.1224 -0.6619   \n",
      "7 -0.4736  1.0843  1.1525 -0.8203 -0.4931 -1.2547  0.6164  0.7124  2.1926   \n",
      "\n",
      "        9  \n",
      "0 -0.5197  \n",
      "1  0.0549  \n",
      "2  0.1563  \n",
      "3 -1.5000  \n",
      "4  0.6634  \n",
      "5 -1.1620  \n",
      "6  1.1367  \n",
      "7  1.1705  \n",
      "\n",
      "Ранжированные данные:\n",
      "       0      1      2      3      4      5      6      7      8      9\n",
      "0 0.8987 0.1573 0.8750 0.0909 0.3827 0.7447 0.2903 0.2333 0.0000 0.3671\n",
      "1 0.1646 0.0449 0.8438 0.9455 1.0000 0.9681 1.0000 0.0000 0.0946 0.5823\n",
      "2 0.2785 0.4045 0.5938 0.7091 0.3704 1.0000 0.4839 0.5556 0.1216 0.6203\n",
      "3 0.4177 0.0000 0.0312 0.0000 0.1975 0.0638 0.6774 1.0000 0.3649 0.0000\n",
      "4 1.0000 0.9663 0.3906 0.3818 0.7037 0.6596 0.8065 0.9667 0.4459 0.8101\n",
      "5 0.0759 0.9775 0.7344 1.0000 0.0000 0.2553 0.5968 0.3000 0.1757 0.1266\n",
      "6 0.0000 0.6966 0.0000 0.7091 0.0617 0.2872 0.0000 0.0333 0.0676 0.9873\n",
      "7 0.2025 1.0000 1.0000 0.1818 0.1975 0.0000 0.7742 0.7667 1.0000 1.0000\n"
     ]
    }
   ],
   "source": [
    "df_normalized = (df - df.mean()) / df.std()\n",
    "\n",
    "df_ranked = (df - df.min()) / (df.max() - df.min())\n",
    "\n",
    "print(\"Нормализованные данные:\")\n",
    "print(df_normalized)\n",
    "\n",
    "print(\"\\nРанжированные данные:\")\n",
    "print(df_ranked)"
   ]
  },
  {
   "cell_type": "markdown",
   "id": "d95d159c-aacf-45aa-9c55-c44b372f47fb",
   "metadata": {},
   "source": [
    "### Task 64"
   ]
  },
  {
   "cell_type": "code",
   "execution_count": 49,
   "id": "3d62aaff-b7ed-4fd4-9126-6d5d6ea91f13",
   "metadata": {},
   "outputs": [],
   "source": [
    "import pandas as pd\n",
    "import numpy as np\n",
    "\n",
    "df = pd.DataFrame(np.random.randint(1, 100, 80).reshape(8, -1))"
   ]
  },
  {
   "cell_type": "code",
   "execution_count": 50,
   "id": "1b864dfa-81e9-48b9-b4fc-65c469cc1559",
   "metadata": {},
   "outputs": [
    {
     "name": "stdout",
     "output_type": "stream",
     "text": [
      "0    0.1976\n",
      "1    0.7297\n",
      "2    0.2043\n",
      "3   -0.2326\n",
      "4    0.4206\n",
      "5    0.1519\n",
      "6    0.0725\n",
      "dtype: float64\n"
     ]
    }
   ],
   "source": [
    "correlations = [df.iloc[i].corr(df.iloc[i + 1]) for i in range(len(df) - 1)]\n",
    "correlation_series = pd.Series(correlations, index=df.index[:-1])\n",
    "\n",
    "print(correlation_series)"
   ]
  },
  {
   "cell_type": "markdown",
   "id": "910aa7d6-872e-4800-978f-edd91af306e5",
   "metadata": {},
   "source": [
    "### Task 65"
   ]
  },
  {
   "cell_type": "code",
   "execution_count": 51,
   "id": "15e4f93b-9f75-4afc-9edc-7bb52bb50b3f",
   "metadata": {},
   "outputs": [],
   "source": [
    "import pandas as pd\n",
    "import numpy as np\n",
    "\n",
    "df = pd.DataFrame(np.random.randint(1, 100, 100).reshape(10, -1))"
   ]
  },
  {
   "cell_type": "code",
   "execution_count": 52,
   "id": "86873afe-395e-46d5-a301-9f0bccfd5457",
   "metadata": {},
   "outputs": [
    {
     "name": "stdout",
     "output_type": "stream",
     "text": [
      "    0   1   2   3   4   5   6   7   8   9\n",
      "0   0  13  76  62  31  54  55  85  25   0\n",
      "1  44   0  73  24  44  69  87  52   0  69\n",
      "2  69  15   0  68  46  82  97   0  93  20\n",
      "3   6  67  26   0  77  31   0  87  50  48\n",
      "4  33  64  93  96   0   0  94  93  58  31\n",
      "5  60  13  64  55   0   0  42  28  57  48\n",
      "6  79  95  28   0  81  90   0  32  96  26\n",
      "7  24  98   0  40  61  45  96   0  83  39\n",
      "8  78   0  76  99  24  25   5  40   0  71\n",
      "9   0  85  60  81  54  59  54  37  74   0\n"
     ]
    }
   ],
   "source": [
    "for i in range(len(df)):\n",
    "    df.iloc[i, i] = 0\n",
    "    df.iloc[i, len(df) - 1 - i] = 0\n",
    "\n",
    "print(df)"
   ]
  },
  {
   "cell_type": "markdown",
   "id": "4f4a13c9-2a60-4c33-b913-e5f1deb393d7",
   "metadata": {},
   "source": [
    "### Task 66"
   ]
  },
  {
   "cell_type": "code",
   "execution_count": 53,
   "id": "8807eb2c-ce1c-48cf-95fe-9286c0b08e81",
   "metadata": {},
   "outputs": [],
   "source": [
    "import pandas as pd\n",
    "import numpy as np\n",
    "\n",
    "df = pd.DataFrame({'col1': ['apple', 'banana', 'orange'] * 3,\n",
    "                   'col2': np.random.rand(9),\n",
    "                   'col3': np.random.randint(0, 15, 9)})"
   ]
  },
  {
   "cell_type": "code",
   "execution_count": 55,
   "id": "899676b1-dbf7-481f-b1ac-d1a1821dad0a",
   "metadata": {},
   "outputs": [
    {
     "name": "stdout",
     "output_type": "stream",
     "text": [
      "    col1   col2  col3\n",
      "0  apple 0.1433    14\n",
      "3  apple 0.5209    11\n",
      "6  apple 0.8696     8\n"
     ]
    }
   ],
   "source": [
    "df_grouped = df.groupby(['col1'])\n",
    "\n",
    "apple_group = df_grouped.get_group(('apple',))\n",
    "\n",
    "print(apple_group)"
   ]
  },
  {
   "cell_type": "markdown",
   "id": "47473d34-4d57-4ad2-a0e3-5d0f5538cfcc",
   "metadata": {},
   "source": [
    "### Task 67"
   ]
  },
  {
   "cell_type": "code",
   "execution_count": 56,
   "id": "ceb5458c-b059-46f7-8c57-daaa15042a7f",
   "metadata": {},
   "outputs": [],
   "source": [
    "import pandas as pd\n",
    "import numpy as np\n",
    "\n",
    "df = pd.DataFrame({'fruit': ['apple', 'banana', 'orange'] * 3,\n",
    "                   'rating': np.random.rand(9),\n",
    "                   'price': np.random.randint(0, 15, 9)})"
   ]
  },
  {
   "cell_type": "code",
   "execution_count": 57,
   "id": "9e38bf8f-363d-4dc5-80d1-b85f905e93de",
   "metadata": {},
   "outputs": [
    {
     "name": "stdout",
     "output_type": "stream",
     "text": [
      "0.21716556700432632\n"
     ]
    }
   ],
   "source": [
    "banana_ratings = df[df['fruit'] == 'banana'].sort_values(by='rating', ascending=False)\n",
    "second_highest_rating = banana_ratings['rating'].iloc[1]\n",
    "\n",
    "print(second_highest_rating)"
   ]
  },
  {
   "cell_type": "markdown",
   "id": "0f74a910-5aa6-4440-bb2d-73d06aef9355",
   "metadata": {},
   "source": [
    "### Task 68"
   ]
  },
  {
   "cell_type": "code",
   "execution_count": 60,
   "id": "95740d8b-f30f-4140-a759-1b74b351392b",
   "metadata": {},
   "outputs": [],
   "source": [
    "import pandas as pd\n",
    "import numpy as np\n",
    "\n",
    "df = pd.DataFrame({'fruit': ['apple', 'banana', 'orange'] * 3,\n",
    "                   'rating': np.random.rand(9),\n",
    "                   'price': np.random.randint(0, 15, 9)})"
   ]
  },
  {
   "cell_type": "code",
   "execution_count": 61,
   "id": "4d2fa07c-44e3-4d3c-b690-71dac0f5188d",
   "metadata": {},
   "outputs": [
    {
     "name": "stdout",
     "output_type": "stream",
     "text": [
      "    fruit  price\n",
      "0   apple 6.6667\n",
      "1  banana 2.0000\n",
      "2  orange 2.6667\n"
     ]
    }
   ],
   "source": [
    "df_avg_price = df.groupby('fruit', as_index=False)['price'].mean()\n",
    "\n",
    "print(df_avg_price)"
   ]
  },
  {
   "cell_type": "markdown",
   "id": "5e7ae3fd-e753-4c99-99d0-87909ea7cc2c",
   "metadata": {},
   "source": [
    "### Task 69"
   ]
  },
  {
   "cell_type": "code",
   "execution_count": 63,
   "id": "83006a69-4f70-4063-8e54-6312c2f5b6ab",
   "metadata": {},
   "outputs": [],
   "source": [
    "import pandas as pd\n",
    "import numpy as np\n",
    "\n",
    "df1 = pd.DataFrame({'fruit': ['apple', 'banana', 'orange'] * 3,\n",
    "                    'weight': ['high', 'medium', 'low'] * 3,\n",
    "                    'price': np.random.randint(0, 15, 9)})\n",
    "\n",
    "df2 = pd.DataFrame({'pazham': ['apple', 'orange', 'pine'] * 2,\n",
    "                    'kilo': ['high', 'low'] * 3,\n",
    "                    'price': np.random.randint(0, 15, 6)})"
   ]
  },
  {
   "cell_type": "code",
   "execution_count": 64,
   "id": "81416d9e-de13-4e0b-b794-ea3fc987e468",
   "metadata": {},
   "outputs": [
    {
     "name": "stdout",
     "output_type": "stream",
     "text": [
      "    fruit weight  price_x  pazham  kilo  price_y\n",
      "0   apple   high       10   apple  high        2\n",
      "1  orange    low        5  orange   low        8\n",
      "2   apple   high        0   apple  high        2\n",
      "3  orange    low       11  orange   low        8\n",
      "4   apple   high        6   apple  high        2\n",
      "5  orange    low        3  orange   low        8\n"
     ]
    }
   ],
   "source": [
    "merged_df = pd.merge(df1, df2, left_on=['fruit', 'weight'], right_on=['pazham', 'kilo'], how='inner')\n",
    "\n",
    "print(merged_df)"
   ]
  },
  {
   "cell_type": "markdown",
   "id": "a977f351-6d68-4058-b16f-86b4581d79f4",
   "metadata": {},
   "source": [
    "### Task 70"
   ]
  },
  {
   "cell_type": "code",
   "execution_count": 65,
   "id": "8dac6877-9394-4061-93ae-28b687df0aa8",
   "metadata": {},
   "outputs": [],
   "source": [
    "import pandas as pd\n",
    "import numpy as np\n",
    "\n",
    "df = pd.DataFrame(np.random.randint(1, 100, 20).reshape(-1, 4), columns=list('abcd'))"
   ]
  },
  {
   "cell_type": "code",
   "execution_count": 66,
   "id": "cc513b3f-009e-4cf6-86ca-23cfffe9ae91",
   "metadata": {},
   "outputs": [
    {
     "name": "stdout",
     "output_type": "stream",
     "text": [
      "    a   b   c   d  a_lag1  b_lead1\n",
      "0  24  45  47  74     NaN  82.0000\n",
      "1  63  82  23  59 24.0000  58.0000\n",
      "2  53  58  55  95 63.0000  43.0000\n",
      "3  33  43  32   5 53.0000  84.0000\n",
      "4  58  84   6  47 33.0000      NaN\n"
     ]
    }
   ],
   "source": [
    "df['a_lag1'] = df['a'].shift(1) \n",
    "df['b_lead1'] = df['b'].shift(-1)  \n",
    "\n",
    "print(df)"
   ]
  },
  {
   "cell_type": "markdown",
   "id": "3016b900-6050-4957-aeda-83cb521d2f25",
   "metadata": {},
   "source": [
    "### Task 71"
   ]
  },
  {
   "cell_type": "code",
   "execution_count": 67,
   "id": "e2760c24-8fbd-41b9-a702-73548b351354",
   "metadata": {},
   "outputs": [],
   "source": [
    "import pandas as pd\n",
    "import numpy as np\n",
    "\n",
    "df = pd.DataFrame(np.random.randint(1, 10, 20).reshape(-1, 4), columns=list('abcd'))"
   ]
  },
  {
   "cell_type": "code",
   "execution_count": 68,
   "id": "cba5c6fa-8dc9-4604-ab41-bdf19099de0d",
   "metadata": {},
   "outputs": [
    {
     "name": "stdout",
     "output_type": "stream",
     "text": [
      "   a  b  c  d\n",
      "1  0  1  0  0\n",
      "2  1  0  1  0\n",
      "3  0  1  0  0\n",
      "4  1  0  0  1\n",
      "5  0  1  1  3\n",
      "6  1  0  0  0\n",
      "7  0  1  2  1\n",
      "8  2  1  1  0\n"
     ]
    }
   ],
   "source": [
    "value_counts = df.apply(pd.Series.value_counts).fillna(0).astype(int)\n",
    "\n",
    "print(value_counts)"
   ]
  },
  {
   "cell_type": "markdown",
   "id": "f6faaa50-ee9e-42f8-86a7-a8ab19c17a60",
   "metadata": {},
   "source": [
    "### Task 72"
   ]
  },
  {
   "cell_type": "code",
   "execution_count": 69,
   "id": "1c0679d7-715a-47c3-bde2-6c532e6910c3",
   "metadata": {},
   "outputs": [],
   "source": [
    "import pandas as pd\n",
    "\n",
    "df = pd.DataFrame([\"STD, City    State\",\n",
    "\"33, Kolkata    West Bengal\",\n",
    "\"44, Chennai    Tamil Nadu\",\n",
    "\"40, Hyderabad    Telengana\",\n",
    "\"80, Bangalore    Karnataka\"], columns=['row'])"
   ]
  },
  {
   "cell_type": "code",
   "execution_count": 70,
   "id": "d69cb48b-8add-4e0d-9e47-1b1412b479cd",
   "metadata": {},
   "outputs": [
    {
     "name": "stdout",
     "output_type": "stream",
     "text": [
      "   STD        City        State\n",
      "0  STD        City        State\n",
      "1   33     Kolkata  West Bengal\n",
      "2   44     Chennai   Tamil Nadu\n",
      "3   40   Hyderabad    Telengana\n",
      "4   80   Bangalore    Karnataka\n"
     ]
    }
   ],
   "source": [
    "df_split = df['row'].str.split(r',|\\s{2,}', expand=True)\n",
    "df_split.columns = ['STD', 'City', 'State']\n",
    "\n",
    "print(df_split)"
   ]
  },
  {
   "cell_type": "code",
   "execution_count": null,
   "id": "83069b43-4135-4913-b554-f84e4d262799",
   "metadata": {},
   "outputs": [],
   "source": []
  }
 ],
 "metadata": {
  "kernelspec": {
   "display_name": "Python 3 (ipykernel)",
   "language": "python",
   "name": "python3"
  },
  "language_info": {
   "codemirror_mode": {
    "name": "ipython",
    "version": 3
   },
   "file_extension": ".py",
   "mimetype": "text/x-python",
   "name": "python",
   "nbconvert_exporter": "python",
   "pygments_lexer": "ipython3",
   "version": "3.13.1"
  }
 },
 "nbformat": 4,
 "nbformat_minor": 5
}
