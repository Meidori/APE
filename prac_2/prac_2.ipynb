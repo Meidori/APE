{
  "nbformat": 4,
  "nbformat_minor": 0,
  "metadata": {
    "colab": {
      "provenance": [],
      "toc_visible": true
    },
    "kernelspec": {
      "name": "python3",
      "display_name": "Python 3"
    },
    "language_info": {
      "name": "python"
    }
  },
  "cells": [
    {
      "cell_type": "markdown",
      "source": [
        "> Бакин Владислав Артемович ИВТ-23-1б\n",
        "\n",
        "# Практика №2\n",
        "\n",
        "1. Сгенерировать, используя модуль псевдослучайных чисел `random`, или ввести с клавиатуры список целых чисел. Вывести в консоль, затем перевернуть его и снова вывести в консоль.\n",
        "\n",
        "2. Сгенерировать, используя модуль псевдослучайных чисел `random`, или ввести с клавиатуры два списка целых чисел. Вывести их в консоль. Создать новый пустой список. Добавить в него все четные (по индексу) элементы первого списка и все нечетные (по индексу) элементы второго списка. Вывести третий список в консоль.\n",
        "\n",
        "3. Сгенерировать, используя модуль псевдослучайных чисел `random`, или ввести с клавиатуры список произвольных элементов (целые числа, числа с плавающей точкой, строки). Вывести в консоль. Убрать из него все дубликаты через приведение типов. Вывести в консоль.\n",
        "\n",
        "4. Сгенерировать, используя модуль псевдослучайных чисел `random`, или ввести с клавиатуры словарь, где ключом является строка, значением — целое число или число с плавающей точкой. Вывести в консоль. Для всех уникальных значений создать кортеж, где первым элементом будет значение, вторым — список связанных с ним ключей. Собрать эти кортежи в список, вывести его в консоль.\n",
        "\n",
        "5. Сгенерировать, используя модуль псевдослучайных чисел `random`, или ввести с клавиатуры два словаря, где ключом является строка, значением — целое число или число с плавающей точкой. Вывести в консоль. Найти пересечения множеств значений словарей. Создать новый словарь, содержащий только те пары ключ-значение, значения из которых входит в пересечение. Вывести в консоль.\n",
        "\n",
        "[Ссылка на документацию функции `random`](https://docs.python.org/3/library/random.html)\n",
        "\n",
        "[Built-in Types](https://docs.python.org/3/library/stdtypes.html?highlight=tuple#tuple)"
      ],
      "metadata": {
        "id": "64JPlHixec69"
      }
    },
    {
      "cell_type": "markdown",
      "source": [
        "## Задание 1"
      ],
      "metadata": {
        "id": "HAVFiCLPo28O"
      }
    },
    {
      "cell_type": "code",
      "source": [
        "import random\n",
        "\n",
        "\n",
        "def generate_list():\n",
        "    arr = [random.randint(1, 100) for _ in range(random.randint(2, 100))]\n",
        "    return arr\n",
        "\n",
        "\n",
        "def main():\n",
        "    arr = generate_list()\n",
        "    rev_arr = arr[::-1]\n",
        "    print(arr)\n",
        "    print(rev_arr)\n",
        "\n",
        "\n",
        "if __name__ == \"__main__\":\n",
        "    main()"
      ],
      "metadata": {
        "id": "YyusyI57F_6_",
        "colab": {
          "base_uri": "https://localhost:8080/"
        },
        "outputId": "9e8596e2-ce66-4316-e024-8bb8961110c5"
      },
      "execution_count": null,
      "outputs": [
        {
          "output_type": "stream",
          "name": "stdout",
          "text": [
            "[43, 97, 53, 95, 58, 51, 49, 49, 33, 1, 68, 77, 39, 88, 20, 28, 36, 20, 28, 35, 30, 28, 76]\n",
            "[76, 28, 30, 35, 28, 20, 36, 28, 20, 88, 39, 77, 68, 1, 33, 49, 49, 51, 58, 95, 53, 97, 43]\n"
          ]
        }
      ]
    },
    {
      "cell_type": "markdown",
      "source": [
        "## Задание 2"
      ],
      "metadata": {
        "id": "a1gbYjASfIqJ"
      }
    },
    {
      "cell_type": "code",
      "source": [
        "import random\n",
        "\n",
        "\n",
        "def generate_list():\n",
        "    list_of_nums = [random.randint(1, 100) for _ in range(random.randint(2, 100))]\n",
        "    return list_of_nums\n",
        "\n",
        "\n",
        "def main():\n",
        "    list_of_nums = generate_list()\n",
        "    rev_list = list_of_nums[::-1]\n",
        "    joint_list = list_of_nums[0::2] + rev_list[1::2]\n",
        "\n",
        "    print(list_of_nums)\n",
        "    print(rev_list)\n",
        "    print(joint_list)\n",
        "\n",
        "\n",
        "if __name__ == \"__main__\":\n",
        "    main()"
      ],
      "metadata": {
        "id": "Q0qL-Z2CGAXx",
        "colab": {
          "base_uri": "https://localhost:8080/"
        },
        "outputId": "035e2926-26de-4678-afbb-f67f61cd8d89"
      },
      "execution_count": null,
      "outputs": [
        {
          "output_type": "stream",
          "name": "stdout",
          "text": [
            "[73, 51, 28, 83, 100, 46, 71, 73, 35, 71, 65, 38, 53, 51, 43, 37, 45, 74, 64, 92, 25, 8, 44, 58, 7]\n",
            "[7, 58, 44, 8, 25, 92, 64, 74, 45, 37, 43, 51, 53, 38, 65, 71, 35, 73, 71, 46, 100, 83, 28, 51, 73]\n",
            "[73, 28, 100, 71, 35, 65, 53, 43, 45, 64, 25, 44, 7, 58, 8, 92, 74, 37, 51, 38, 71, 73, 46, 83, 51]\n"
          ]
        }
      ]
    },
    {
      "cell_type": "markdown",
      "source": [
        "## Задание 3"
      ],
      "metadata": {
        "id": "ZITkT8YUfM8t"
      }
    },
    {
      "cell_type": "code",
      "source": [
        "import random\n",
        "\n",
        "\n",
        "def generate_list():\n",
        "    random_list = [random.choice([random.randint(1, 10), random.uniform(1, 10),\n",
        "                    random.choice(\"abcdefghijk\")]) for _ in range(random.randrange(1,50))]\n",
        "    return random_list\n",
        "\n",
        "\n",
        "def main():\n",
        "    random_list = generate_list()\n",
        "    print(random_list)\n",
        "\n",
        "    unique_list = list(set(random_list))\n",
        "    print(unique_list)\n",
        "\n",
        "    print(\"\\nДлина 1 списка: \", len(random_list))\n",
        "    print(\"Длина 2 списка: \", len(unique_list))\n",
        "\n",
        "\n",
        "\n",
        "if __name__ == \"__main__\":\n",
        "    main()"
      ],
      "metadata": {
        "id": "FIKNuLjQGAsW",
        "colab": {
          "base_uri": "https://localhost:8080/"
        },
        "outputId": "7a8435c9-9474-4f53-be33-5ab0aa389c0a"
      },
      "execution_count": null,
      "outputs": [
        {
          "output_type": "stream",
          "name": "stdout",
          "text": [
            "[2.978910006097362, 2, 9, 2, 7.533045190403653, 'c', 5, 6.02762166776559, 'h', 1.4824482634776923, 5, 2.552773068995599, 'd', 3, 2.9827803476829913, 'i', 'j', 4.755350344639897, 'b', 3.903751028516746, 2, 8.341537033282611]\n",
            "[1.4824482634776923, 2.978910006097362, 2, 2.552773068995599, 5, 6.02762166776559, 7.533045190403653, 3, 9, 2.9827803476829913, 4.755350344639897, 8.341537033282611, 'i', 3.903751028516746, 'h', 'd', 'j', 'b', 'c']\n",
            "\n",
            "Длина 1 списка:  22\n",
            "Длина 2 списка:  19\n"
          ]
        }
      ]
    },
    {
      "cell_type": "markdown",
      "source": [
        "## Задание 4"
      ],
      "metadata": {
        "id": "sqvNf2a6fTdY"
      }
    },
    {
      "cell_type": "code",
      "source": [
        "import random\n",
        "\n",
        "\n",
        "def generate_dict():\n",
        "    random_dict = {random.choice(\"abcdefghijklmnopqrstuvwxyz\") :\n",
        "                   random.choice([random.randint(1, 5), random.uniform(1, 5)])\n",
        "                   for _ in range(random.randrange(1, 50))}\n",
        "    return random_dict\n",
        "\n",
        "\n",
        "def generate_list_of_tuples(dictionary):\n",
        "    value_to_keys = {}\n",
        "    for key, value in dictionary.items():\n",
        "        if value not in value_to_keys:\n",
        "            value_to_keys[value] = []\n",
        "        value_to_keys[value].append(key)\n",
        "\n",
        "    list_of_tuples = [(value, keys) for value, keys in value_to_keys.items()]\n",
        "    return list_of_tuples\n",
        "\n",
        "\n",
        "def main():\n",
        "    random_dict = generate_dict()\n",
        "    print(random_dict)\n",
        "\n",
        "    list_of_tuples = generate_list_of_tuples(random_dict)\n",
        "    print(\"\\n\", list_of_tuples)\n",
        "\n",
        "\n",
        "if __name__ == \"__main__\":\n",
        "    main()"
      ],
      "metadata": {
        "id": "4qaYZ2dMGBEr",
        "colab": {
          "base_uri": "https://localhost:8080/"
        },
        "outputId": "e23c6ae3-6ec4-4709-f983-7d0748f4fc06"
      },
      "execution_count": null,
      "outputs": [
        {
          "output_type": "stream",
          "name": "stdout",
          "text": [
            "{'u': 3, 'h': 3, 'c': 1.0239353810063547, 'w': 3.1857859514747804, 'k': 1, 'y': 4.39505014537478, 'e': 4, 's': 2, 'f': 2, 'j': 3, 't': 2, 'i': 1, 'q': 1.441992718291714, 'b': 4, 'n': 3.6897885042807497, 'o': 2.241586762818694, 'x': 2.840661843646182, 'a': 2, 'd': 2, 'm': 4.98991989041476, 'z': 3, 'p': 4.728174952585378}\n",
            "\n",
            " [(3, ['u', 'h', 'j', 'z']), (1.0239353810063547, ['c']), (3.1857859514747804, ['w']), (1, ['k', 'i']), (4.39505014537478, ['y']), (4, ['e', 'b']), (2, ['s', 'f', 't', 'a', 'd']), (1.441992718291714, ['q']), (3.6897885042807497, ['n']), (2.241586762818694, ['o']), (2.840661843646182, ['x']), (4.98991989041476, ['m']), (4.728174952585378, ['p'])]\n"
          ]
        }
      ]
    },
    {
      "cell_type": "markdown",
      "source": [
        "## Задание 5"
      ],
      "metadata": {
        "id": "3V5mJOBQfYHe"
      }
    },
    {
      "cell_type": "code",
      "source": [
        "import random\n",
        "\n",
        "\n",
        "def generate_dict():\n",
        "    random_dict = {random.choice(\"abcdefghijklmnopqrstuvwxyz\") :\n",
        "                   random.choice([random.randint(1, 10), random.uniform(1, 10)])\n",
        "                   for _ in range(random.randrange(1, 100))}\n",
        "    return random_dict\n",
        "\n",
        "\n",
        "def intersection(dict1, dict2):\n",
        "    inter_values = set(dict1.values()).intersection(dict2.values())\n",
        "\n",
        "    inter_dict = {key: value for key, value in dict1.items() if value in inter_values}\n",
        "    inter_dict.update({key: value for key, value in dict2.items() if value in inter_values})\n",
        "    return inter_dict\n",
        "\n",
        "\n",
        "def main():\n",
        "    rand_dict1 = generate_dict()\n",
        "    rand_dict2 = generate_dict()\n",
        "\n",
        "    print(rand_dict1, \"\\n\")\n",
        "    print(rand_dict2, \"\\n\")\n",
        "\n",
        "    inter_dict = intersection(rand_dict1, rand_dict2)\n",
        "    print(inter_dict)\n",
        "\n",
        "\n",
        "if __name__ == \"__main__\":\n",
        "    main()"
      ],
      "metadata": {
        "id": "7RJzU4DiGBXQ",
        "colab": {
          "base_uri": "https://localhost:8080/"
        },
        "outputId": "732d7b44-1c70-476a-b5f5-9e359abf5f70"
      },
      "execution_count": null,
      "outputs": [
        {
          "output_type": "stream",
          "name": "stdout",
          "text": [
            "{'r': 8, 'a': 5.23786697223819, 'b': 7, 'x': 6.212655421469086, 'h': 8.545656666829183, 't': 1, 'n': 4, 'v': 9, 'z': 5.674455973273076, 'k': 8.818866171851539, 'j': 7.212057836513083, 'd': 4.726934176987133, 'w': 2.141138545968353, 'q': 6.367685688142467} \n",
            "\n",
            "{'t': 9, 'b': 3.127555997503837, 'u': 2, 'p': 6.039539104025789, 'j': 3.6058818188164277, 'g': 4.557216089974717, 'f': 4, 'l': 7.969232964247298, 'x': 5.46866647284722, 'n': 6.127927769119993, 'h': 1, 'e': 5.960617746982422, 'q': 7, 'z': 3, 'c': 4, 'r': 5, 'o': 10} \n",
            "\n",
            "{'b': 7, 't': 9, 'n': 4, 'v': 9, 'f': 4, 'h': 1, 'q': 7, 'c': 4}\n"
          ]
        }
      ]
    }
  ]
}